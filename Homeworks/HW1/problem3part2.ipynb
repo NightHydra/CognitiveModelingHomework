{
 "cells": [
  {
   "cell_type": "code",
   "execution_count": 2,
   "metadata": {},
   "outputs": [],
   "source": [
    "import numpy as np"
   ]
  },
  {
   "cell_type": "code",
   "execution_count": 3,
   "metadata": {},
   "outputs": [
    {
     "name": "stdout",
     "output_type": "stream",
     "text": [
      "Points:\n",
      "[[ 0.32449125  0.21901045]\n",
      " [ 0.08987917  0.89728941]\n",
      " [-0.41659626 -0.42710841]\n",
      " ...\n",
      " [-0.78452809 -0.26874397]\n",
      " [ 0.1655806  -0.74840705]\n",
      " [ 0.38955157  0.72139543]]\n"
     ]
    }
   ],
   "source": [
    "#Generate random coordinates on [-1,1]\n",
    "numPoints = 50000000\n",
    "points = np.random.uniform(low=-1, high=1, size=(numPoints, 2))\n",
    "\n",
    "print(\"Points:\")\n",
    "print(points)"
   ]
  },
  {
   "cell_type": "code",
   "execution_count": 4,
   "metadata": {},
   "outputs": [],
   "source": [
    "#Determine if each point falls inside the unit circle by filtering out ones that don't\n",
    "points = points[points[:, 0]**2 + points[:, 1]**2 <= 1]"
   ]
  },
  {
   "cell_type": "code",
   "execution_count": 5,
   "metadata": {},
   "outputs": [
    {
     "name": "stdout",
     "output_type": "stream",
     "text": [
      "PI Approximation: 3.14129472\n"
     ]
    }
   ],
   "source": [
    "#Approximate pi\n",
    "print(f\"PI Approximation: {4*(points.shape[0]/numPoints)}\")"
   ]
  },
  {
   "cell_type": "code",
   "execution_count": null,
   "metadata": {},
   "outputs": [],
   "source": []
  }
 ],
 "metadata": {
  "language_info": {
   "name": "python"
  }
 },
 "nbformat": 4,
 "nbformat_minor": 2
}
