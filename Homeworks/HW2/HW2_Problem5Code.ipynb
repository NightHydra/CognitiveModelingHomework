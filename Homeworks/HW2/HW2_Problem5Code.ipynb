{
 "cells": [
  {
   "cell_type": "code",
   "execution_count": 15,
   "metadata": {},
   "outputs": [],
   "source": [
    "import numpy as np"
   ]
  },
  {
   "cell_type": "code",
   "execution_count": 16,
   "metadata": {},
   "outputs": [],
   "source": [
    "def draw_cards(num_samples : int = int(1e-3)) -> str:\n",
    "    sample_vector = np.random.choice([\"DC\", \"D-\", \"C-\", \"OO\"], p = \n",
    "        [3/35, 10/35,10/35, 12/35], size = num_samples)\n",
    "    return sample_vector\n",
    "\n",
    "def get_random_actions(sample_vector : {str}):\n",
    "\n",
    "    actions = []\n",
    "\n",
    "    possible_actions = np.array([\"T\", \"S\", \"I\"])\n",
    "\n",
    "    \n",
    "\n",
    "    for sample in sample_vector:\n",
    "        if sample == \"DC\":\n",
    "            actions.append(np.random.choice(possible_actions, p = [0.5, 0.4, 0.1]))\n",
    "        elif sample == \"D-\":\n",
    "            actions.append(np.random.choice(possible_actions, p = [0.7, 0.05, 0.25]))\n",
    "        elif sample == \"C-\":\n",
    "            actions.append(np.random.choice(possible_actions, p = [0.4, 0.55, 0.05]))\n",
    "        else:\n",
    "            actions.append(np.random.choice(possible_actions, p = [0.5, 0.05, 0.45]))\n",
    "    return np.array(actions)\n",
    "\n",
    "def simulate(num_simulations : int = int(1e-3)) -> {str}:\n",
    "    sims = []\n",
    "    \n",
    "    card_samples = draw_cards(num_simulations)\n",
    "    action_samples = get_random_actions(card_samples)\n",
    "\n",
    "    for i in range (num_simulations):\n",
    "        sims.append(f\"{card_samples[i]},{action_samples[i]}\")\n",
    "\n",
    "    return sims\n",
    "    "
   ]
  },
  {
   "cell_type": "code",
   "execution_count": 31,
   "metadata": {},
   "outputs": [],
   "source": [
    "amount_of_times_to_simulate = 10000\n",
    "sim_results = simulate(amount_of_times_to_simulate)\n",
    "\n"
   ]
  },
  {
   "cell_type": "code",
   "execution_count": 32,
   "metadata": {},
   "outputs": [
    {
     "name": "stdout",
     "output_type": "stream",
     "text": [
      "['C-,I' 'C-,S' 'C-,T' 'D-,I' 'D-,S' 'D-,T' 'DC,I' 'DC,S' 'DC,T' 'OO,I'\n",
      " 'OO,S' 'OO,T']\n",
      "[ 148 1585 1161  684  146 2049   91  332  457 1512  160 1675]\n"
     ]
    }
   ],
   "source": [
    "scenarios, freqs = np.unique(sim_results, return_counts = True)\n",
    "\n",
    "print (scenarios)\n",
    "print (freqs)"
   ]
  },
  {
   "cell_type": "code",
   "execution_count": 5,
   "metadata": {},
   "outputs": [
    {
     "ename": "NameError",
     "evalue": "name 'freqs' is not defined",
     "output_type": "error",
     "traceback": [
      "\u001b[1;31m---------------------------------------------------------------------------\u001b[0m",
      "\u001b[1;31mNameError\u001b[0m                                 Traceback (most recent call last)",
      "Input \u001b[1;32mIn [5]\u001b[0m, in \u001b[0;36m<cell line: 1>\u001b[1;34m()\u001b[0m\n\u001b[1;32m----> 1\u001b[0m probabilities \u001b[38;5;241m=\u001b[39m np\u001b[38;5;241m.\u001b[39mround(\u001b[43mfreqs\u001b[49m \u001b[38;5;241m/\u001b[39m \u001b[38;5;28mint\u001b[39m(amount_of_times_to_simulate), \u001b[38;5;241m4\u001b[39m)\n\u001b[0;32m      3\u001b[0m \u001b[38;5;28mprint\u001b[39m (scenarios)\n\u001b[0;32m      4\u001b[0m \u001b[38;5;28mprint\u001b[39m(probabilities)\n",
      "\u001b[1;31mNameError\u001b[0m: name 'freqs' is not defined"
     ]
    }
   ],
   "source": [
    "probabilities = np.round(freqs / int(amount_of_times_to_simulate), 4)\n",
    "\n",
    "print (scenarios)\n",
    "print(probabilities)"
   ]
  }
 ],
 "metadata": {
  "kernelspec": {
   "display_name": "base",
   "language": "python",
   "name": "python3"
  },
  "language_info": {
   "codemirror_mode": {
    "name": "ipython",
    "version": 3
   },
   "file_extension": ".py",
   "mimetype": "text/x-python",
   "name": "python",
   "nbconvert_exporter": "python",
   "pygments_lexer": "ipython3",
   "version": "3.9.12"
  }
 },
 "nbformat": 4,
 "nbformat_minor": 2
}
