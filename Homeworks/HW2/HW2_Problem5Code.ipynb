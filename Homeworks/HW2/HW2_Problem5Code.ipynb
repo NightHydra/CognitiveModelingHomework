{
 "cells": [
  {
   "cell_type": "code",
   "execution_count": 55,
   "metadata": {},
   "outputs": [],
   "source": [
    "import numpy as np\n",
    "import copy as cp"
   ]
  },
  {
   "cell_type": "code",
   "execution_count": null,
   "metadata": {},
   "outputs": [],
   "source": [
    "def draw_cards(num_samples : int = int(1e-3)) -> str:\n",
    "    sample_vector = np.random.choice([\"DC\", \"D-\", \"C-\", \"OO\"], p = \n",
    "        [3/35, 10/35,10/35, 12/35], size = num_samples)\n",
    "    return sample_vector\n",
    "\n",
    "def get_random_actions(sample_vector : {str}):\n",
    "\n",
    "    actions = cp.deepcopy(sample_vector)\n",
    "\n",
    "    possible_actions = np.array([\"T\", \"S\", \"I\"])\n",
    "\n",
    "    actions[actions == \"DC\"] = np.random.choice(possible_actions, \n",
    "        p = [0.5, 0.4, 0.1], size = np.count_nonzero([actions == \"DC\"]))\n",
    "    actions[actions == \"D-\"] = np.random.choice(possible_actions, \n",
    "        p = [0.7, 0.05, 0.25], size = np.count_nonzero([actions == \"D-\"]))\n",
    "    actions[actions == \"C-\"] = np.random.choice(possible_actions, \n",
    "        p = [0.4, 0.55, 0.05], size = np.count_nonzero([actions == \"C-\"]))\n",
    "    actions[actions == \"OO\"] = np.random.choice(possible_actions, \n",
    "        p = [0.5, 0.05, 0.45], size = np.count_nonzero([actions == \"OO\"]))\n",
    "\n",
    "    return actions\n",
    "\n",
    "def simulate(num_simulations : int = int(1e-3)) -> {str}:\n",
    "    sims = []\n",
    "    \n",
    "    card_samples = draw_cards(num_simulations)\n",
    "    action_samples = get_random_actions(card_samples)\n",
    "\n",
    "    for i in range (num_simulations):\n",
    "        sims.append(f\"{card_samples[i]},{action_samples[i]}\")\n",
    "\n",
    "    return sims\n",
    "    "
   ]
  },
  {
   "cell_type": "code",
   "execution_count": 63,
   "metadata": {},
   "outputs": [],
   "source": [
    "amount_of_times_to_simulate = 10000\n",
    "sim_results = simulate(amount_of_times_to_simulate)\n",
    "\n"
   ]
  },
  {
   "cell_type": "code",
   "execution_count": 64,
   "metadata": {},
   "outputs": [
    {
     "name": "stdout",
     "output_type": "stream",
     "text": [
      "['C-,I' 'C-,S' 'C-,T' 'D-,I' 'D-,S' 'D-,T' 'DC,I' 'DC,S' 'DC,T' 'OO,I'\n",
      " 'OO,S' 'OO,T']\n",
      "[ 129 1565 1141  732  140 1966   87  342  419 1562  176 1741]\n"
     ]
    }
   ],
   "source": [
    "scenarios, freqs = np.unique(sim_results, return_counts = True)\n",
    "\n",
    "print (scenarios)\n",
    "print (freqs)"
   ]
  },
  {
   "cell_type": "code",
   "execution_count": 65,
   "metadata": {},
   "outputs": [
    {
     "name": "stdout",
     "output_type": "stream",
     "text": [
      "['C-,I' 'C-,S' 'C-,T' 'D-,I' 'D-,S' 'D-,T' 'DC,I' 'DC,S' 'DC,T' 'OO,I'\n",
      " 'OO,S' 'OO,T']\n",
      "[0.0129 0.1565 0.1141 0.0732 0.014  0.1966 0.0087 0.0342 0.0419 0.1562\n",
      " 0.0176 0.1741]\n"
     ]
    }
   ],
   "source": [
    "probabilities = np.round(freqs / int(amount_of_times_to_simulate), 4)\n",
    "\n",
    "print (scenarios)\n",
    "print(probabilities)"
   ]
  }
 ],
 "metadata": {
  "kernelspec": {
   "display_name": "base",
   "language": "python",
   "name": "python3"
  },
  "language_info": {
   "codemirror_mode": {
    "name": "ipython",
    "version": 3
   },
   "file_extension": ".py",
   "mimetype": "text/x-python",
   "name": "python",
   "nbconvert_exporter": "python",
   "pygments_lexer": "ipython3",
   "version": "3.9.12"
  }
 },
 "nbformat": 4,
 "nbformat_minor": 2
}
