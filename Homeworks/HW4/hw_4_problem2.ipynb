{
 "cells": [
  {
   "cell_type": "markdown",
   "id": "77e00bc4",
   "metadata": {},
   "source": [
    "### Cognitive Modeling HW4 Problem 2"
   ]
  },
  {
   "cell_type": "code",
   "execution_count": 1,
   "id": "0e2cecc7",
   "metadata": {},
   "outputs": [
    {
     "name": "stderr",
     "output_type": "stream",
     "text": [
      "/home/krupkaa/anaconda3/envs/cognitive/lib/python3.12/site-packages/numpy/_core/getlimits.py:551: UserWarning: Signature b'\\x00\\xd0\\xcc\\xcc\\xcc\\xcc\\xcc\\xcc\\xfb\\xbf\\x00\\x00\\x00\\x00\\x00\\x00' for <class 'numpy.longdouble'> does not match any known type: falling back to type probe function.\n",
      "This warnings indicates broken support for the dtype!\n",
      "  machar = _get_machar(dtype)\n"
     ]
    },
    {
     "name": "stdout",
     "output_type": "stream",
     "text": [
      "3.10.0\n"
     ]
    }
   ],
   "source": [
    "# Pip imports\n",
    "import numpy as np\n",
    "import matplotlib.pyplot as plt\n",
    "import seaborn as sns\n",
    "\n",
    "import stan\n",
    "\n",
    "try:\n",
    "    import arviz as az\n",
    "except ImportError as err:\n",
    "    print(\"Please, install arviz for easy visualization of Stan models.\")\n",
    "\n",
    "import nest_asyncio\n",
    "nest_asyncio.apply()\n",
    "\n",
    "import pandas as pd\n",
    "\n",
    "print(stan.__version__)"
   ]
  },
  {
   "cell_type": "code",
   "execution_count": 2,
   "id": "cfd50f0b",
   "metadata": {},
   "outputs": [],
   "source": [
    "one_high_stan_code = \"\"\"\n",
    "data {\n",
    "  int<lower=1> N; // Number of trials\n",
    "  array[2] int<lower=0, upper=N> freqs;\n",
    "}\n",
    "\n",
    "parameters {\n",
    "  // Your code here\n",
    "  int<lower=0, higher=1> d;\n",
    "  int<lower=0, higher=1> g;\n",
    "}\n",
    "\n",
    "transformed parameters {\n",
    "  simplex[2] theta;\n",
    "  \n",
    "  // New\n",
    "  theta[1] = a * t * f;\n",
    "  // Neologism\n",
    "  //theta[2] = a*t*(1-f)*(1-c) + a*(1-t)*(1-f)*(1-c); // NOT NEEDED DUE TO SIMPLIFICATION\n",
    "  theta[2] = (a * (1-f) * (1-c))\n",
    "  // Formal\n",
    "  theta[3] = a*(t*(1-f)*c + (1-t)*(1-f)*c);\n",
    "  // Mixed\n",
    "  theta[4] = a*(1-t)*f;\n",
    "  // Other\n",
    "  theta[5] = 1-a;\n",
    "}\n",
    "\n",
    "model {\n",
    "  // Assuming uniform priors\n",
    "  target += beta_lpdf(a | 1, 1);\n",
    "  target += beta_lpdf(t | 1, 1);\n",
    "  target += beta_lpdf(f | 1, 1);\n",
    "  target += beta_lpdf(c | 1, 1);\n",
    "\n",
    "  // Multinomial likelihood\n",
    "  target += multinomial_lpmf(freqs | theta);\n",
    "}\n",
    "\n",
    "generated quantities{\n",
    "  array[K] int pred_freqs;\n",
    "  pred_freqs = multinomial_rng(theta, N);\n",
    "}\n",
    "\"\"\""
   ]
  }
 ],
 "metadata": {
  "kernelspec": {
   "display_name": "cognitive",
   "language": "python",
   "name": "python3"
  },
  "language_info": {
   "codemirror_mode": {
    "name": "ipython",
    "version": 3
   },
   "file_extension": ".py",
   "mimetype": "text/x-python",
   "name": "python",
   "nbconvert_exporter": "python",
   "pygments_lexer": "ipython3",
   "version": "3.12.0"
  }
 },
 "nbformat": 4,
 "nbformat_minor": 5
}
