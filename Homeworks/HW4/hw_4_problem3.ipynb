{
 "cells": [
  {
   "cell_type": "code",
   "execution_count": 2,
   "id": "18fe52cd",
   "metadata": {},
   "outputs": [
    {
     "name": "stderr",
     "output_type": "stream",
     "text": [
      "/home/krupkaa/anaconda3/envs/cognitive/lib/python3.12/site-packages/numpy/_core/getlimits.py:551: UserWarning: Signature b'\\x00\\xd0\\xcc\\xcc\\xcc\\xcc\\xcc\\xcc\\xfb\\xbf\\x00\\x00\\x00\\x00\\x00\\x00' for <class 'numpy.longdouble'> does not match any known type: falling back to type probe function.\n",
      "This warnings indicates broken support for the dtype!\n",
      "  machar = _get_machar(dtype)\n"
     ]
    }
   ],
   "source": [
    "# Pip imports\n",
    "import numpy as np\n",
    "import matplotlib.pyplot as plt\n",
    "import seaborn as sns\n",
    "\n",
    "import stan\n",
    "\n",
    "try:\n",
    "    import arviz as az\n",
    "except ImportError as err:\n",
    "    print(\"Please, install arviz for easy visualization of Stan models.\")\n",
    "\n",
    "import nest_asyncio\n",
    "nest_asyncio.apply()\n",
    "\n",
    "import pandas as pd"
   ]
  },
  {
   "cell_type": "code",
   "execution_count": 198,
   "id": "f59c896e",
   "metadata": {},
   "outputs": [],
   "source": [
    "stan_code = \"\"\"\n",
    "\n",
    "data {\n",
    "    int<lower=1> N;\n",
    "    matrix[N,3] x;\n",
    "    vector[N] y;\n",
    "}\n",
    "\n",
    "parameters {\n",
    "    real<lower=0> sigma;\n",
    "    real alpha;\n",
    "    array[3] int beta;\n",
    "}\n",
    "\n",
    "model {\n",
    "    sigma ~ inv_gamma(0.3, 0.6);\n",
    "    alpha ~ normal(0, 5);\n",
    "    beta ~ identity_matrix(3)*normal(0,1);\n",
    "\n",
    "    for (n in 1:N) {\n",
    "        y[n] ~ normal(alpha + beta * x[n], sigma);\n",
    "    }\n",
    "}\n",
    "\n",
    "\"\"\""
   ]
  },
  {
   "cell_type": "code",
   "execution_count": 199,
   "id": "2d1e875c",
   "metadata": {},
   "outputs": [
    {
     "name": "stdout",
     "output_type": "stream",
     "text": [
      "       age     bmi  children\n",
      "0     19.0  27.900       0.0\n",
      "1     18.0  33.770       1.0\n",
      "2     28.0  33.000       3.0\n",
      "3     33.0  22.705       0.0\n",
      "4     32.0  28.880       0.0\n",
      "...    ...     ...       ...\n",
      "1333  50.0  30.970       3.0\n",
      "1334  18.0  31.920       0.0\n",
      "1335  18.0  36.850       0.0\n",
      "1336  21.0  25.800       0.0\n",
      "1337  61.0  29.070       0.0\n",
      "\n",
      "[1338 rows x 3 columns]\n"
     ]
    }
   ],
   "source": [
    "# Read in the file\n",
    "insurance_data = pd.read_csv(\"insurance.csv\")\n",
    "\n",
    "key_param_df = insurance_data[['age', 'bmi', 'children']].astype(np.float64)\n",
    "print (key_param_df)"
   ]
  },
  {
   "cell_type": "code",
   "execution_count": 200,
   "id": "0202f998",
   "metadata": {},
   "outputs": [
    {
     "name": "stdout",
     "output_type": "stream",
     "text": [
      "Building...\n"
     ]
    },
    {
     "name": "stderr",
     "output_type": "stream",
     "text": [
      "Building: Syntax error:   -------------------------------------------------\n",
      "    16:      sigma ~ inv_gamma(0.3, 0.6);\n",
      "    17:      alpha ~ normal(0, 5);\n",
      "    18:      beta ~ identity_matrix(3)*normal(0,1);\n",
      "                                      ^\n",
      "    19:  \n",
      "    20:      for (n in 1:N) {\n",
      "   -------------------------------------------------\n",
      "\n",
      "Ill-formed \"~\"-statement. Expect either \";\" or a truncation with the format \"T[\" optional expression \",\" optional expression \"];\"."
     ]
    },
    {
     "ename": "ValueError",
     "evalue": "Syntax error",
     "output_type": "error",
     "traceback": [
      "\u001b[31m---------------------------------------------------------------------------\u001b[39m",
      "\u001b[31mValueError\u001b[39m                                Traceback (most recent call last)",
      "\u001b[36mCell\u001b[39m\u001b[36m \u001b[39m\u001b[32mIn[200]\u001b[39m\u001b[32m, line 8\u001b[39m\n\u001b[32m      1\u001b[39m data_dict = {\n\u001b[32m      2\u001b[39m     \u001b[33m'\u001b[39m\u001b[33mN\u001b[39m\u001b[33m'\u001b[39m: insurance_data.shape[\u001b[32m0\u001b[39m],\n\u001b[32m      3\u001b[39m     \u001b[38;5;66;03m#'x': np.ndarray(key_param_df.values, dtype=float)\u001b[39;00m\n\u001b[32m      4\u001b[39m     \u001b[33m'\u001b[39m\u001b[33mx\u001b[39m\u001b[33m'\u001b[39m: key_param_df.values,\n\u001b[32m      5\u001b[39m     \u001b[33m'\u001b[39m\u001b[33my\u001b[39m\u001b[33m'\u001b[39m: insurance_data[\u001b[33m'\u001b[39m\u001b[33mcharges\u001b[39m\u001b[33m'\u001b[39m].values\n\u001b[32m      6\u001b[39m }\n\u001b[32m----> \u001b[39m\u001b[32m8\u001b[39m model = \u001b[43mstan\u001b[49m\u001b[43m.\u001b[49m\u001b[43mbuild\u001b[49m\u001b[43m(\u001b[49m\u001b[43mstan_code\u001b[49m\u001b[43m,\u001b[49m\u001b[43m \u001b[49m\u001b[43mdata\u001b[49m\u001b[43m=\u001b[49m\u001b[43mdata_dict\u001b[49m\u001b[43m)\u001b[49m\n",
      "\u001b[36mFile \u001b[39m\u001b[32m~/anaconda3/envs/cognitive/lib/python3.12/site-packages/stan/model.py:519\u001b[39m, in \u001b[36mbuild\u001b[39m\u001b[34m(program_code, data, random_seed)\u001b[39m\n\u001b[32m    516\u001b[39m         \u001b[38;5;28;01mreturn\u001b[39;00m Model(model_name, program_code, data, param_names, constrained_param_names, dims, random_seed)\n\u001b[32m    518\u001b[39m \u001b[38;5;28;01mtry\u001b[39;00m:\n\u001b[32m--> \u001b[39m\u001b[32m519\u001b[39m     \u001b[38;5;28;01mreturn\u001b[39;00m \u001b[43masyncio\u001b[49m\u001b[43m.\u001b[49m\u001b[43mrun\u001b[49m\u001b[43m(\u001b[49m\u001b[43mgo\u001b[49m\u001b[43m(\u001b[49m\u001b[43m)\u001b[49m\u001b[43m)\u001b[49m\n\u001b[32m    520\u001b[39m \u001b[38;5;28;01mexcept\u001b[39;00m \u001b[38;5;167;01mKeyboardInterrupt\u001b[39;00m:\n\u001b[32m    521\u001b[39m     \u001b[38;5;28;01mreturn\u001b[39;00m\n",
      "\u001b[36mFile \u001b[39m\u001b[32m~/anaconda3/envs/cognitive/lib/python3.12/site-packages/nest_asyncio.py:30\u001b[39m, in \u001b[36m_patch_asyncio.<locals>.run\u001b[39m\u001b[34m(main, debug)\u001b[39m\n\u001b[32m     28\u001b[39m task = asyncio.ensure_future(main)\n\u001b[32m     29\u001b[39m \u001b[38;5;28;01mtry\u001b[39;00m:\n\u001b[32m---> \u001b[39m\u001b[32m30\u001b[39m     \u001b[38;5;28;01mreturn\u001b[39;00m \u001b[43mloop\u001b[49m\u001b[43m.\u001b[49m\u001b[43mrun_until_complete\u001b[49m\u001b[43m(\u001b[49m\u001b[43mtask\u001b[49m\u001b[43m)\u001b[49m\n\u001b[32m     31\u001b[39m \u001b[38;5;28;01mfinally\u001b[39;00m:\n\u001b[32m     32\u001b[39m     \u001b[38;5;28;01mif\u001b[39;00m \u001b[38;5;129;01mnot\u001b[39;00m task.done():\n",
      "\u001b[36mFile \u001b[39m\u001b[32m~/anaconda3/envs/cognitive/lib/python3.12/site-packages/nest_asyncio.py:98\u001b[39m, in \u001b[36m_patch_loop.<locals>.run_until_complete\u001b[39m\u001b[34m(self, future)\u001b[39m\n\u001b[32m     95\u001b[39m \u001b[38;5;28;01mif\u001b[39;00m \u001b[38;5;129;01mnot\u001b[39;00m f.done():\n\u001b[32m     96\u001b[39m     \u001b[38;5;28;01mraise\u001b[39;00m \u001b[38;5;167;01mRuntimeError\u001b[39;00m(\n\u001b[32m     97\u001b[39m         \u001b[33m'\u001b[39m\u001b[33mEvent loop stopped before Future completed.\u001b[39m\u001b[33m'\u001b[39m)\n\u001b[32m---> \u001b[39m\u001b[32m98\u001b[39m \u001b[38;5;28;01mreturn\u001b[39;00m \u001b[43mf\u001b[49m\u001b[43m.\u001b[49m\u001b[43mresult\u001b[49m\u001b[43m(\u001b[49m\u001b[43m)\u001b[49m\n",
      "\u001b[36mFile \u001b[39m\u001b[32m~/anaconda3/envs/cognitive/lib/python3.12/asyncio/futures.py:203\u001b[39m, in \u001b[36mFuture.result\u001b[39m\u001b[34m(self)\u001b[39m\n\u001b[32m    201\u001b[39m \u001b[38;5;28mself\u001b[39m.__log_traceback = \u001b[38;5;28;01mFalse\u001b[39;00m\n\u001b[32m    202\u001b[39m \u001b[38;5;28;01mif\u001b[39;00m \u001b[38;5;28mself\u001b[39m._exception \u001b[38;5;129;01mis\u001b[39;00m \u001b[38;5;129;01mnot\u001b[39;00m \u001b[38;5;28;01mNone\u001b[39;00m:\n\u001b[32m--> \u001b[39m\u001b[32m203\u001b[39m     \u001b[38;5;28;01mraise\u001b[39;00m \u001b[38;5;28mself\u001b[39m._exception.with_traceback(\u001b[38;5;28mself\u001b[39m._exception_tb)\n\u001b[32m    204\u001b[39m \u001b[38;5;28;01mreturn\u001b[39;00m \u001b[38;5;28mself\u001b[39m._result\n",
      "\u001b[36mFile \u001b[39m\u001b[32m~/anaconda3/envs/cognitive/lib/python3.12/asyncio/tasks.py:304\u001b[39m, in \u001b[36mTask.__step_run_and_handle_result\u001b[39m\u001b[34m(***failed resolving arguments***)\u001b[39m\n\u001b[32m    300\u001b[39m \u001b[38;5;28;01mtry\u001b[39;00m:\n\u001b[32m    301\u001b[39m     \u001b[38;5;28;01mif\u001b[39;00m exc \u001b[38;5;129;01mis\u001b[39;00m \u001b[38;5;28;01mNone\u001b[39;00m:\n\u001b[32m    302\u001b[39m         \u001b[38;5;66;03m# We use the `send` method directly, because coroutines\u001b[39;00m\n\u001b[32m    303\u001b[39m         \u001b[38;5;66;03m# don't have `__iter__` and `__next__` methods.\u001b[39;00m\n\u001b[32m--> \u001b[39m\u001b[32m304\u001b[39m         result = \u001b[43mcoro\u001b[49m\u001b[43m.\u001b[49m\u001b[43msend\u001b[49m\u001b[43m(\u001b[49m\u001b[38;5;28;43;01mNone\u001b[39;49;00m\u001b[43m)\u001b[49m\n\u001b[32m    305\u001b[39m     \u001b[38;5;28;01melse\u001b[39;00m:\n\u001b[32m    306\u001b[39m         result = coro.throw(exc)\n",
      "\u001b[36mFile \u001b[39m\u001b[32m~/anaconda3/envs/cognitive/lib/python3.12/site-packages/stan/model.py:496\u001b[39m, in \u001b[36mbuild.<locals>.go\u001b[39m\u001b[34m()\u001b[39m\n\u001b[32m    494\u001b[39m     building_output.write_line(\u001b[33mf\u001b[39m\u001b[33m\"\u001b[39m\u001b[33m<info>Building:</info> <error>\u001b[39m\u001b[38;5;132;01m{\u001b[39;00merror_type\u001b[38;5;132;01m}\u001b[39;00m\u001b[33m:</error>\u001b[39m\u001b[33m\"\u001b[39m)\n\u001b[32m    495\u001b[39m     building_output.write_line(\u001b[33mf\u001b[39m\u001b[33m\"\u001b[39m\u001b[33m<error>\u001b[39m\u001b[38;5;132;01m{\u001b[39;00mexception_body_without_first_line\u001b[38;5;132;01m}\u001b[39;00m\u001b[33m</error>\u001b[39m\u001b[33m\"\u001b[39m)\n\u001b[32m--> \u001b[39m\u001b[32m496\u001b[39m     \u001b[38;5;28;01mraise\u001b[39;00m \u001b[38;5;167;01mValueError\u001b[39;00m(error_type)\n\u001b[32m    497\u001b[39m \u001b[38;5;28;01melse\u001b[39;00m:\n\u001b[32m    498\u001b[39m     \u001b[38;5;28;01mraise\u001b[39;00m \u001b[38;5;167;01mRuntimeError\u001b[39;00m(exception_body)\n",
      "\u001b[31mValueError\u001b[39m: Syntax error"
     ]
    }
   ],
   "source": [
    "data_dict = {\n",
    "    'N': insurance_data.shape[0],\n",
    "    #'x': np.ndarray(key_param_df.values, dtype=float)\n",
    "    'x': key_param_df.values,\n",
    "    'y': insurance_data['charges'].values\n",
    "}\n",
    "\n",
    "model = stan.build(stan_code, data=data_dict)"
   ]
  },
  {
   "cell_type": "code",
   "execution_count": 201,
   "id": "d60e6c41",
   "metadata": {},
   "outputs": [
    {
     "name": "stderr",
     "output_type": "stream",
     "text": [
      "Sampling:   0%\n",
      "Sampling:   0% (1/600)\n",
      "Sampling:   0% (2/600)\n",
      "Sampling:   0% (3/600)\n",
      "Sampling:   1% (4/600)\n",
      "Sampling:   9% (54/600)\n",
      "Sampling:  17% (104/600)\n",
      "Sampling:  26% (154/600)\n",
      "Sampling:  34% (204/600)\n",
      "Sampling:  50% (303/600)\n",
      "Sampling:  67% (402/600)\n",
      "Sampling:  84% (501/600)\n",
      "Sampling: 100% (600/600)\n",
      "Sampling: 100% (600/600), done.\n",
      "Messages received during sampling:\n",
      "  Gradient evaluation took 0.000325 seconds\n",
      "  1000 transitions using 10 leapfrog steps per transition would take 3.25 seconds.\n",
      "  Adjust your expectations accordingly!\n",
      "  WARNING: There aren't enough warmup iterations to fit the\n",
      "           three stages of adaptation as currently configured.\n",
      "           Reducing each adaptation stage to 15%/75%/10% of\n",
      "           the given number of warmup iterations:\n",
      "             init_buffer = 7\n",
      "             adapt_window = 38\n",
      "             term_buffer = 5\n",
      "  Gradient evaluation took 0.000322 seconds\n",
      "  1000 transitions using 10 leapfrog steps per transition would take 3.22 seconds.\n",
      "  Adjust your expectations accordingly!\n",
      "  WARNING: There aren't enough warmup iterations to fit the\n",
      "           three stages of adaptation as currently configured.\n",
      "           Reducing each adaptation stage to 15%/75%/10% of\n",
      "           the given number of warmup iterations:\n",
      "             init_buffer = 7\n",
      "             adapt_window = 38\n",
      "             term_buffer = 5\n",
      "  Gradient evaluation took 0.000314 seconds\n",
      "  1000 transitions using 10 leapfrog steps per transition would take 3.14 seconds.\n",
      "  Adjust your expectations accordingly!\n",
      "  WARNING: There aren't enough warmup iterations to fit the\n",
      "           three stages of adaptation as currently configured.\n",
      "           Reducing each adaptation stage to 15%/75%/10% of\n",
      "           the given number of warmup iterations:\n",
      "             init_buffer = 7\n",
      "             adapt_window = 38\n",
      "             term_buffer = 5\n",
      "  Gradient evaluation took 0.000653 seconds\n",
      "  1000 transitions using 10 leapfrog steps per transition would take 6.53 seconds.\n",
      "  Adjust your expectations accordingly!\n",
      "  WARNING: There aren't enough warmup iterations to fit the\n",
      "           three stages of adaptation as currently configured.\n",
      "           Reducing each adaptation stage to 15%/75%/10% of\n",
      "           the given number of warmup iterations:\n",
      "             init_buffer = 7\n",
      "             adapt_window = 38\n",
      "             term_buffer = 5\n"
     ]
    }
   ],
   "source": [
    "fit = model.sample(num_chains=4, num_samples=100, num_warmup=50)"
   ]
  },
  {
   "cell_type": "code",
   "execution_count": 124,
   "id": "ac32156a",
   "metadata": {},
   "outputs": [
    {
     "data": {
      "text/html": [
       "<div>\n",
       "<style scoped>\n",
       "    .dataframe tbody tr th:only-of-type {\n",
       "        vertical-align: middle;\n",
       "    }\n",
       "\n",
       "    .dataframe tbody tr th {\n",
       "        vertical-align: top;\n",
       "    }\n",
       "\n",
       "    .dataframe thead th {\n",
       "        text-align: right;\n",
       "    }\n",
       "</style>\n",
       "<table border=\"1\" class=\"dataframe\">\n",
       "  <thead>\n",
       "    <tr style=\"text-align: right;\">\n",
       "      <th></th>\n",
       "      <th>mean</th>\n",
       "      <th>sd</th>\n",
       "      <th>hdi_3%</th>\n",
       "      <th>hdi_97%</th>\n",
       "      <th>mcse_mean</th>\n",
       "      <th>mcse_sd</th>\n",
       "      <th>ess_bulk</th>\n",
       "      <th>ess_tail</th>\n",
       "      <th>r_hat</th>\n",
       "    </tr>\n",
       "  </thead>\n",
       "  <tbody>\n",
       "    <tr>\n",
       "      <th>sigma</th>\n",
       "      <td>17877.079</td>\n",
       "      <td>189.692</td>\n",
       "      <td>17550.324</td>\n",
       "      <td>18275.394</td>\n",
       "      <td>10.411</td>\n",
       "      <td>12.973</td>\n",
       "      <td>330.0</td>\n",
       "      <td>259.0</td>\n",
       "      <td>1.03</td>\n",
       "    </tr>\n",
       "    <tr>\n",
       "      <th>alpha</th>\n",
       "      <td>4.925</td>\n",
       "      <td>4.889</td>\n",
       "      <td>-4.097</td>\n",
       "      <td>13.215</td>\n",
       "      <td>0.669</td>\n",
       "      <td>0.296</td>\n",
       "      <td>56.0</td>\n",
       "      <td>93.0</td>\n",
       "      <td>1.08</td>\n",
       "    </tr>\n",
       "    <tr>\n",
       "      <th>beta</th>\n",
       "      <td>4.023</td>\n",
       "      <td>0.925</td>\n",
       "      <td>2.282</td>\n",
       "      <td>5.620</td>\n",
       "      <td>0.063</td>\n",
       "      <td>0.048</td>\n",
       "      <td>216.0</td>\n",
       "      <td>222.0</td>\n",
       "      <td>1.01</td>\n",
       "    </tr>\n",
       "  </tbody>\n",
       "</table>\n",
       "</div>"
      ],
      "text/plain": [
       "            mean       sd     hdi_3%    hdi_97%  mcse_mean  mcse_sd  ess_bulk  \\\n",
       "sigma  17877.079  189.692  17550.324  18275.394     10.411   12.973     330.0   \n",
       "alpha      4.925    4.889     -4.097     13.215      0.669    0.296      56.0   \n",
       "beta       4.023    0.925      2.282      5.620      0.063    0.048     216.0   \n",
       "\n",
       "       ess_tail  r_hat  \n",
       "sigma     259.0   1.03  \n",
       "alpha      93.0   1.08  \n",
       "beta      222.0   1.01  "
      ]
     },
     "execution_count": 124,
     "metadata": {},
     "output_type": "execute_result"
    }
   ],
   "source": [
    "az.summary(fit)"
   ]
  },
  {
   "cell_type": "code",
   "execution_count": null,
   "id": "dba677fa",
   "metadata": {},
   "outputs": [],
   "source": []
  }
 ],
 "metadata": {
  "kernelspec": {
   "display_name": "cognitive",
   "language": "python",
   "name": "python3"
  },
  "language_info": {
   "codemirror_mode": {
    "name": "ipython",
    "version": 3
   },
   "file_extension": ".py",
   "mimetype": "text/x-python",
   "name": "python",
   "nbconvert_exporter": "python",
   "pygments_lexer": "ipython3",
   "version": "3.12.0"
  }
 },
 "nbformat": 4,
 "nbformat_minor": 5
}
