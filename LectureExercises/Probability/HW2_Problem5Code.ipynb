{
 "cells": [
  {
   "cell_type": "code",
   "execution_count": null,
   "metadata": {},
   "outputs": [],
   "source": [
    "import numpy as np"
   ]
  },
  {
   "cell_type": "code",
   "execution_count": null,
   "metadata": {},
   "outputs": [],
   "source": [
    "def draw_samples(num_samples : int = int(1e-3)) -> str:\n",
    "    sample_vector = np.random.choice([\"s1\", \"s2\", \"s3\"], p = [p1, p2, p3], size = num_samples)\n",
    "    return sample_vector\n",
    "\n",
    "def observation_model(sample_vector : {str}):\n",
    "\n",
    "    if (selection == s1):\n",
    "        return np.random.choice([\"s1\", \"s2\", \"s3\", \"s4\"], [p1, p2, p3, p4])\n",
    "    elif (selection == s2):\n",
    "        return np.random.choice([\"s1\", \"s2\", \"s3\", \"s4\"], [p1, p2, p3, p4])\n",
    "    else:\n",
    "        return np.random.choice([\"s1\", \"s2\", \"s3\", \"s4\"], [p1, p2, p3, p4])\n",
    "\n",
    "def simulate(num_simulations : int = int(1e-3)) -> {str}:\n",
    "    sims = []\n",
    "    for _ in range(num_simulations):\n",
    "        samples = draw_samples()\n",
    "        result = observation_model(selection)\n",
    "        sims.append(f\"{selection}-{result}\")\n",
    "    return sims\n",
    "    "
   ]
  },
  {
   "cell_type": "code",
   "execution_count": null,
   "metadata": {},
   "outputs": [],
   "source": [
    "amount_of_times_to_simulate = 1000\n",
    "sim_results = simulate(amount_of_times_to_simulate)\n",
    "\n"
   ]
  },
  {
   "cell_type": "code",
   "execution_count": null,
   "metadata": {},
   "outputs": [],
   "source": [
    "scenarios, freqs = np.unique(sim_results, return_counts = True)\n",
    "\n",
    "print (scenarios)\n",
    "print (freqs)"
   ]
  }
 ],
 "metadata": {
  "language_info": {
   "name": "python"
  }
 },
 "nbformat": 4,
 "nbformat_minor": 2
}
