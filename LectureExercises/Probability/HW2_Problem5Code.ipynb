{
 "cells": [
  {
   "cell_type": "code",
   "execution_count": 7,
   "metadata": {},
   "outputs": [],
   "source": [
    "import numpy as np"
   ]
  },
  {
   "cell_type": "code",
   "execution_count": 26,
   "metadata": {},
   "outputs": [],
   "source": [
    "def draw_cards(num_samples : int = int(1e-3)) -> str:\n",
    "    sample_vector = np.random.choice([\"DC\", \"D-\", \"C-\", \"OO\"], p = \n",
    "        [3/35, 10/35,10/35, 12/35], size = num_samples)\n",
    "    return sample_vector\n",
    "\n",
    "def get_random_actions(sample_vector : {str}):\n",
    "\n",
    "    actions = []\n",
    "\n",
    "    possible_actions = [\"T\", \"S\", \"I\"]\n",
    "\n",
    "    for sample in sample_vector:\n",
    "        if sample == \"DC\":\n",
    "            actions.append(np.random.choice(possible_actions, p = [0.5, 0.4, 0.1]))\n",
    "        elif sample == \"D-\":\n",
    "            actions.append(np.random.choice(possible_actions, p = [0.7, 0.05, 0.25]))\n",
    "        elif sample == \"C-\":\n",
    "            actions.append(np.random.choice(possible_actions, p = [0.4, 0.55, 0.05]))\n",
    "        else:\n",
    "            actions.append(np.random.choice(possible_actions, p = [0.5, 0.05, 0.45]))\n",
    "    return np.array(actions)\n",
    "\n",
    "def simulate(num_simulations : int = int(1e-3)) -> {str}:\n",
    "    sims = []\n",
    "    \n",
    "    card_samples = draw_cards(num_simulations)\n",
    "    action_samples = get_random_actions(card_samples)\n",
    "\n",
    "    for i in range (num_simulations):\n",
    "        sims.append(f\"{card_samples[i]},{action_samples[i]}\")\n",
    "\n",
    "    return sims\n",
    "    "
   ]
  },
  {
   "cell_type": "code",
   "execution_count": 31,
   "metadata": {},
   "outputs": [],
   "source": [
    "amount_of_times_to_simulate = 10000\n",
    "sim_results = simulate(amount_of_times_to_simulate)\n",
    "\n"
   ]
  },
  {
   "cell_type": "code",
   "execution_count": 32,
   "metadata": {},
   "outputs": [
    {
     "name": "stdout",
     "output_type": "stream",
     "text": [
      "['C-,I' 'C-,S' 'C-,T' 'D-,I' 'D-,S' 'D-,T' 'DC,I' 'DC,S' 'DC,T' 'OO,I'\n",
      " 'OO,S' 'OO,T']\n",
      "[ 148 1585 1161  684  146 2049   91  332  457 1512  160 1675]\n"
     ]
    }
   ],
   "source": [
    "scenarios, freqs = np.unique(sim_results, return_counts = True)\n",
    "\n",
    "print (scenarios)\n",
    "print (freqs)"
   ]
  },
  {
   "cell_type": "code",
   "execution_count": 33,
   "metadata": {},
   "outputs": [
    {
     "name": "stdout",
     "output_type": "stream",
     "text": [
      "['C-,I' 'C-,S' 'C-,T' 'D-,I' 'D-,S' 'D-,T' 'DC,I' 'DC,S' 'DC,T' 'OO,I'\n",
      " 'OO,S' 'OO,T']\n",
      "[0.0148 0.1585 0.1161 0.0684 0.0146 0.2049 0.0091 0.0332 0.0457 0.1512\n",
      " 0.016  0.1675]\n"
     ]
    }
   ],
   "source": [
    "probabilities = np.round(freqs / int(amount_of_times_to_simulate), 4)\n",
    "\n",
    "print (scenarios)\n",
    "print(probabilities)"
   ]
  }
 ],
 "metadata": {
  "kernelspec": {
   "display_name": "Python 3",
   "language": "python",
   "name": "python3"
  },
  "language_info": {
   "codemirror_mode": {
    "name": "ipython",
    "version": 3
   },
   "file_extension": ".py",
   "mimetype": "text/x-python",
   "name": "python",
   "nbconvert_exporter": "python",
   "pygments_lexer": "ipython3",
   "version": "3.8.10"
  }
 },
 "nbformat": 4,
 "nbformat_minor": 2
}
