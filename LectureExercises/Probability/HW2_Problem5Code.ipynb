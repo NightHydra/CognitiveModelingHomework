{
 "cells": [
  {
   "cell_type": "code",
   "execution_count": 7,
   "metadata": {},
   "outputs": [],
   "source": [
    "import numpy as np"
   ]
  },
  {
   "cell_type": "code",
   "execution_count": 26,
   "metadata": {},
   "outputs": [],
   "source": [
    "def draw_cards(num_samples : int = int(1e-3)) -> str:\n",
    "    sample_vector = np.random.choice([\"DC\", \"D-\", \"C-\", \"OO\"], p = \n",
    "        [3/35, 10/35,10/35, 12/35], size = num_samples)\n",
    "    return sample_vector\n",
    "\n",
    "def get_random_actions(sample_vector : {str}):\n",
    "\n",
    "    actions = []\n",
    "\n",
    "    possible_actions = [\"T\", \"S\", \"I\"]\n",
    "\n",
    "    for sample in sample_vector:\n",
    "        if sample == \"DC\":\n",
    "            actions.append(np.random.choice(possible_actions, p = [0.5, 0.4, 0.1]))\n",
    "        elif sample == \"D-\":\n",
    "            actions.append(np.random.choice(possible_actions, p = [0.7, 0.05, 0.25]))\n",
    "        elif sample == \"C-\":\n",
    "            actions.append(np.random.choice(possible_actions, p = [0.4, 0.55, 0.05]))\n",
    "        else:\n",
    "            actions.append(np.random.choice(possible_actions, p = [0.5, 0.05, 0.45]))\n",
    "    return np.array(actions)\n",
    "\n",
    "def simulate(num_simulations : int = int(1e-3)) -> {str}:\n",
    "    sims = []\n",
    "    \n",
    "    card_samples = draw_cards(num_simulations)\n",
    "    action_samples = get_random_actions(card_samples)\n",
    "\n",
    "    for i in range (num_simulations):\n",
    "        sims.append(f\"{card_samples[i]},{action_samples[i]}\")\n",
    "\n",
    "    return sims\n",
    "    "
   ]
  },
  {
   "cell_type": "code",
   "execution_count": 37,
   "metadata": {},
   "outputs": [],
   "source": [
    "amount_of_times_to_simulate = 500000\n",
    "sim_results = simulate(amount_of_times_to_simulate)\n",
    "\n"
   ]
  },
  {
   "cell_type": "code",
   "execution_count": 38,
   "metadata": {},
   "outputs": [
    {
     "name": "stdout",
     "output_type": "stream",
     "text": [
      "['C-,I' 'C-,S' 'C-,T' 'D-,I' 'D-,S' 'D-,T' 'DC,I' 'DC,S' 'DC,T' 'OO,I'\n",
      " 'OO,S' 'OO,T']\n",
      "[  7171  78725  57056  35535   7240 100216   4340  17086  21347  77304\n",
      "   8589  85391]\n"
     ]
    }
   ],
   "source": [
    "scenarios, freqs = np.unique(sim_results, return_counts = True)\n",
    "\n",
    "print (scenarios)\n",
    "print (freqs)"
   ]
  },
  {
   "cell_type": "code",
   "execution_count": 39,
   "metadata": {},
   "outputs": [
    {
     "name": "stdout",
     "output_type": "stream",
     "text": [
      "['C-,I' 'C-,S' 'C-,T' 'D-,I' 'D-,S' 'D-,T' 'DC,I' 'DC,S' 'DC,T' 'OO,I'\n",
      " 'OO,S' 'OO,T']\n",
      "[0.0143 0.1574 0.1141 0.0711 0.0145 0.2004 0.0087 0.0342 0.0427 0.1546\n",
      " 0.0172 0.1708]\n"
     ]
    }
   ],
   "source": [
    "probabilities = np.round(freqs / int(amount_of_times_to_simulate), 4)\n",
    "\n",
    "print (scenarios)\n",
    "print(probabilities)"
   ]
  }
 ],
 "metadata": {
  "kernelspec": {
   "display_name": "Python 3",
   "language": "python",
   "name": "python3"
  },
  "language_info": {
   "codemirror_mode": {
    "name": "ipython",
    "version": 3
   },
   "file_extension": ".py",
   "mimetype": "text/x-python",
   "name": "python",
   "nbconvert_exporter": "python",
   "pygments_lexer": "ipython3",
   "version": "3.8.10"
  }
 },
 "nbformat": 4,
 "nbformat_minor": 2
}
