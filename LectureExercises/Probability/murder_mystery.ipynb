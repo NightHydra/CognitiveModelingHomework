{
 "cells": [
  {
   "cell_type": "code",
   "execution_count": 1,
   "metadata": {},
   "outputs": [],
   "source": [
    "import numpy as np"
   ]
  },
  {
   "cell_type": "code",
   "execution_count": 2,
   "metadata": {},
   "outputs": [],
   "source": [
    "def draw_suspect():\n",
    "    s = np.random.choice([\"c\", \"b\"], p = (0.6, 0.4))\n",
    "    return s\n",
    "\n",
    "def observation_model(s : str):\n",
    "\n",
    "    if s == \"c\":\n",
    "        return np.random.choice([\"k\", \"p\", \"s\"], p = (0.8, 0.1, 0.1))\n",
    "    \n",
    "    return np.random.choice([\"k\", \"p\", \"s\"], p = (0.1, 0.8, 0.1))\n",
    "\n",
    "def simulate_many(num_sims : int = int(1e3)):\n",
    "    sims = []\n",
    "    for _ in range(num_sims):\n",
    "        s = draw_suspect()\n",
    "        w = observation_model(s)\n",
    "        sims.append(f\"{s}-{w}\")\n",
    "    return sims\n"
   ]
  },
  {
   "cell_type": "code",
   "execution_count": 3,
   "metadata": {},
   "outputs": [],
   "source": [
    "simulations = simulate_many()\n",
    "\n",
    "scenarios, freqs = np.unique(simulations, return_counts=True)"
   ]
  },
  {
   "cell_type": "code",
   "execution_count": 5,
   "metadata": {},
   "outputs": [
    {
     "data": {
      "text/plain": [
       "array([ 44, 320,  41, 468,  63,  64])"
      ]
     },
     "execution_count": 5,
     "metadata": {},
     "output_type": "execute_result"
    }
   ],
   "source": [
    "freqs"
   ]
  },
  {
   "cell_type": "code",
   "execution_count": 6,
   "metadata": {},
   "outputs": [
    {
     "data": {
      "text/plain": [
       "['b-k', 'b-p', 'b-s', 'c-k', 'c-p', 'c-s']"
      ]
     },
     "execution_count": 6,
     "metadata": {},
     "output_type": "execute_result"
    }
   ],
   "source": [
    "list(scenarios)"
   ]
  },
  {
   "cell_type": "code",
   "execution_count": 12,
   "metadata": {},
   "outputs": [
    {
     "data": {
      "text/plain": [
       "array([0.04, 0.32, 0.04, 0.47, 0.06, 0.06])"
      ]
     },
     "execution_count": 12,
     "metadata": {},
     "output_type": "execute_result"
    }
   ],
   "source": [
    "np.round(freqs / int(1e3), 2)"
   ]
  },
  {
   "cell_type": "code",
   "execution_count": null,
   "metadata": {},
   "outputs": [],
   "source": []
  }
 ],
 "metadata": {
  "kernelspec": {
   "display_name": "Python 3",
   "language": "python",
   "name": "python3"
  },
  "language_info": {
   "codemirror_mode": {
    "name": "ipython",
    "version": 3
   },
   "file_extension": ".py",
   "mimetype": "text/x-python",
   "name": "python",
   "nbconvert_exporter": "python",
   "pygments_lexer": "ipython3",
   "version": "3.8.10"
  }
 },
 "nbformat": 4,
 "nbformat_minor": 2
}
