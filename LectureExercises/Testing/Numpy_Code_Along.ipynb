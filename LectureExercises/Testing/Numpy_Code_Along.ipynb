{
 "cells": [
  {
   "cell_type": "code",
   "execution_count": 98,
   "metadata": {},
   "outputs": [],
   "source": [
    "import numpy as np\n",
    "import matplotlib.pyplot as plt\n",
    "import seaborn as sns\n",
    "\n",
    "np.set_printoptions(suppress=True)"
   ]
  },
  {
   "cell_type": "markdown",
   "metadata": {},
   "source": [
    "# Numpy Basics"
   ]
  },
  {
   "cell_type": "markdown",
   "metadata": {},
   "source": [
    "<p>NumPy is Python's most used library for efficient numerical computations. At the core of numpy lies the N-dimensional array data structure (also called a numpy array).</p>\n",
    "\n",
    "<p>An array is defined by the <strong>type</strong> of elements it contains and its <strong>shape</strong>. For instance, a matrix may be represented as an array of shape (<em>N</em> x <em>M</em>). Note, that numpy arrays can have arbirary shape (<em>Dim1</em>, <em>Dim2</em>, <em>Dim3</em>,...).</p> \n",
    "\n",
    "<div>\n",
    "<img src=\"https://predictivehacks.com/wp-content/uploads/2020/08/numpy_arrays-1024x572.png\" width=\"75%\"/>\n",
    "</div>\n",
    "\n",
    "\n",
    "<p>Besides being a convenient data container, numpy arrays provide an interface to many <strong>vectorized</strong> operations, implemented in native C code. Vectorization in interpreted languages is a means to speed up repetitive computations (elementwise operations, etc.). Thus, vectorization saves your time and makes you more productive!</p>\n",
    "\n",
    "For more information about the nuts and bolts of numpy, check out the very well writte numpy documentation:\n",
    "https://docs.scipy.org/doc/numpy/user/quickstart.html\n",
    "\n",
    "Also, check out this very informative tutorial paper:\n",
    "https://arxiv.org/pdf/1102.1523.pdf\n",
    "\n",
    "<p>Now, let's get some hands-on experience with numpy arrays!</p> "
   ]
  },
  {
   "cell_type": "markdown",
   "metadata": {},
   "source": [
    "## Creating numpy arrays"
   ]
  },
  {
   "cell_type": "code",
   "execution_count": 99,
   "metadata": {},
   "outputs": [],
   "source": [
    "# Numbers in a given range (from:to:step)\n"
   ]
  },
  {
   "cell_type": "code",
   "execution_count": 100,
   "metadata": {},
   "outputs": [],
   "source": [
    "# Linearly spaced items\n"
   ]
  },
  {
   "cell_type": "code",
   "execution_count": 101,
   "metadata": {},
   "outputs": [],
   "source": [
    "# Array of zeros\n"
   ]
  },
  {
   "cell_type": "code",
   "execution_count": 102,
   "metadata": {},
   "outputs": [],
   "source": [
    "# Matrix of zeros\n"
   ]
  },
  {
   "cell_type": "code",
   "execution_count": 103,
   "metadata": {},
   "outputs": [],
   "source": [
    "# Identity matrix\n"
   ]
  },
  {
   "cell_type": "code",
   "execution_count": 104,
   "metadata": {},
   "outputs": [],
   "source": [
    "# Random uniform numbers [0 - 1]\n"
   ]
  },
  {
   "cell_type": "code",
   "execution_count": 105,
   "metadata": {},
   "outputs": [
    {
     "ename": "AttributeError",
     "evalue": "module 'numpy' has no attribute 'randint'",
     "output_type": "error",
     "traceback": [
      "\u001b[1;31m---------------------------------------------------------------------------\u001b[0m",
      "\u001b[1;31mAttributeError\u001b[0m                            Traceback (most recent call last)",
      "Input \u001b[1;32mIn [105]\u001b[0m, in \u001b[0;36m<cell line: 2>\u001b[1;34m()\u001b[0m\n\u001b[0;32m      1\u001b[0m \u001b[38;5;66;03m# Random integers (low - high, high is exclusive)\u001b[39;00m\n\u001b[1;32m----> 2\u001b[0m \u001b[43mnp\u001b[49m\u001b[38;5;241;43m.\u001b[39;49m\u001b[43mrandint\u001b[49m()\n",
      "File \u001b[1;32mc:\\Users\\Alek\\anaconda3\\lib\\site-packages\\numpy\\__init__.py:313\u001b[0m, in \u001b[0;36m__getattr__\u001b[1;34m(attr)\u001b[0m\n\u001b[0;32m    310\u001b[0m     \u001b[38;5;28;01mfrom\u001b[39;00m \u001b[38;5;21;01m.\u001b[39;00m\u001b[38;5;21;01mtesting\u001b[39;00m \u001b[38;5;28;01mimport\u001b[39;00m Tester\n\u001b[0;32m    311\u001b[0m     \u001b[38;5;28;01mreturn\u001b[39;00m Tester\n\u001b[1;32m--> 313\u001b[0m \u001b[38;5;28;01mraise\u001b[39;00m \u001b[38;5;167;01mAttributeError\u001b[39;00m(\u001b[38;5;124m\"\u001b[39m\u001b[38;5;124mmodule \u001b[39m\u001b[38;5;132;01m{!r}\u001b[39;00m\u001b[38;5;124m has no attribute \u001b[39m\u001b[38;5;124m\"\u001b[39m\n\u001b[0;32m    314\u001b[0m                      \u001b[38;5;124m\"\u001b[39m\u001b[38;5;132;01m{!r}\u001b[39;00m\u001b[38;5;124m\"\u001b[39m\u001b[38;5;241m.\u001b[39mformat(\u001b[38;5;18m__name__\u001b[39m, attr))\n",
      "\u001b[1;31mAttributeError\u001b[0m: module 'numpy' has no attribute 'randint'"
     ]
    }
   ],
   "source": [
    "# Random integers (low - high, high is exclusive)\n",
    "np.randint()"
   ]
  },
  {
   "cell_type": "code",
   "execution_count": 3,
   "metadata": {},
   "outputs": [
    {
     "data": {
      "text/plain": [
       "array([ 0.88105019,  0.10619666, -1.17641233,  3.18872565,  0.22098883,\n",
       "       -1.88922483, -0.2622037 ,  0.40612369, -1.52650885, -0.82159086,\n",
       "       -0.5702388 ,  1.45128669, -0.92562683,  1.76082563,  2.45607235,\n",
       "        0.45952701, -0.14130731, -2.38875641, -0.04078908, -1.09948844,\n",
       "       -0.19310602,  0.70492389, -0.19388596,  0.40768198, -0.85769039,\n",
       "        0.07204578,  0.50801309,  0.30238522, -0.42782579,  0.32252565,\n",
       "       -0.55730764, -1.27937234, -0.12544499,  0.53004675, -2.87401025,\n",
       "       -0.36351175, -0.58100722, -0.2832105 , -0.68345508,  0.733852  ,\n",
       "       -1.105066  ,  2.43346175, -1.37041582,  0.51128923, -1.46998485,\n",
       "       -0.43847215,  0.54684468,  1.00207647,  0.51350442, -0.04952625,\n",
       "       -0.30441066, -0.44151803,  1.03928468, -1.19450198, -0.57465988,\n",
       "        1.41535186,  0.18094885, -2.05432979, -0.26086636,  0.95413921,\n",
       "        0.59443283, -0.22545153, -1.89078545, -0.60722682, -0.29080042,\n",
       "        2.34344177, -0.44576138,  1.37156561, -0.18787763,  0.29705627,\n",
       "        1.18627033, -0.45845983, -0.99959022, -0.54430619, -0.34948469,\n",
       "       -0.27995207, -1.30306769,  0.90161657, -0.17715243, -0.52181057,\n",
       "        0.63934466,  0.46005868, -0.76020268, -0.39459294,  0.67585386,\n",
       "       -0.11868406, -0.13770386,  1.85641899,  0.29063201, -0.0930179 ,\n",
       "       -2.23622522, -1.1078331 ,  2.10736193, -1.12884059,  1.18146602,\n",
       "        0.63903204, -1.77137812, -0.44695098,  2.42293301, -0.9204691 ,\n",
       "        0.65519033,  0.38981657,  0.24450701, -0.71985047,  0.81998135,\n",
       "       -2.36953645,  0.5700778 ,  1.47450377, -0.25363052,  0.56023905,\n",
       "        0.12290006,  0.03988558, -1.39391074,  0.26848036, -0.31762116,\n",
       "        0.53333876,  0.09032643, -0.44357703,  0.40964096,  0.08967913,\n",
       "       -1.33735742, -0.31298697, -0.68771922, -0.44846008, -0.67014482,\n",
       "       -0.1304803 , -1.25943788,  2.48188783, -2.4174961 , -1.04887376,\n",
       "       -1.10177265,  0.50474498, -0.06748662,  0.62730575,  0.16966599,\n",
       "        0.32396439,  0.20539027,  0.1426393 , -0.81256611, -0.26578879,\n",
       "       -1.72342529, -0.24633591, -1.27223464,  0.73704546,  1.36709719,\n",
       "       -0.02509546, -0.21064151,  0.86794912, -1.63182959,  0.817389  ,\n",
       "        0.64164252,  2.6062533 ,  0.96728734,  0.04836192, -0.20320086,\n",
       "       -0.08462009, -0.39606222,  0.88066217, -0.02116957, -1.09070316,\n",
       "       -0.67677098,  1.04778286, -0.66634072,  1.66906989,  0.3630348 ,\n",
       "       -0.2212204 , -0.16170782, -1.49579199, -0.92090883,  0.33108199,\n",
       "        0.60216013,  0.73390108, -0.18915164, -0.08018467,  0.98450021,\n",
       "       -1.1112983 , -0.45102942,  0.75733507, -0.67697841,  0.72910311,\n",
       "       -0.5539368 ,  0.22458884, -1.40650555,  0.8212036 ,  0.82512282,\n",
       "        0.65288036,  0.95593506,  0.27533136, -0.24238367, -0.74254515,\n",
       "       -0.38010191,  0.55794444,  0.17204287,  0.18642891, -1.27111645,\n",
       "        2.3519196 ,  1.16963868,  0.77742197,  0.77163066,  1.74595378,\n",
       "       -0.94046605,  0.34170485, -1.09657368, -0.26366345,  1.33878394,\n",
       "       -0.73801824,  0.47317797, -0.65743038, -2.85731051,  0.26388923,\n",
       "        1.0893414 ,  0.45316612, -0.52813737, -2.26645043, -0.41749781,\n",
       "        0.38434178,  0.43758817, -2.44774113, -0.53712811,  0.37752623,\n",
       "       -0.20620805, -0.51563694,  1.24075056,  1.02985805, -1.57650765,\n",
       "       -0.63815071, -2.15779998,  1.05067127,  0.48758233,  0.24062417,\n",
       "        0.76939305, -0.77094185,  0.66255435,  0.76461414,  1.46107389,\n",
       "        0.23549817,  2.51465154,  0.15474744,  0.2150057 ,  0.36049469,\n",
       "       -0.3848114 ,  1.32071985, -0.2459986 ,  0.35648399,  2.02186679,\n",
       "        1.33091428, -1.4782494 , -0.60212325, -0.16992343, -0.48216322,\n",
       "        0.6636198 , -0.55695639, -0.78269995, -0.48258228,  0.18766551,\n",
       "       -0.00491117,  0.03877431, -0.10283866,  0.81856967, -0.81690241,\n",
       "        0.62848521,  0.19553963,  0.41477949, -0.89650081, -0.93544201,\n",
       "        0.81766258, -0.16579498,  0.98334803,  1.65435735, -1.17767193,\n",
       "       -0.09206781,  0.70383303, -0.73650586, -1.73340241,  0.43788436,\n",
       "       -0.75539523,  0.98063016, -1.8725365 , -0.85948564,  1.11173642,\n",
       "        0.22338604,  0.10126018, -0.50902879, -1.86151237,  2.99235422,\n",
       "        0.3415121 , -0.00099611,  0.50936763,  0.79046721, -0.4904931 ,\n",
       "       -0.51921871, -1.02691724,  1.14237356, -0.09620399,  0.47890435,\n",
       "        0.09261862,  0.51536508, -0.22671623,  1.10237782, -1.26462189,\n",
       "        1.20027769,  1.36733972, -0.12894906, -1.06752673, -1.32338521,\n",
       "        2.48506018, -1.8536772 , -0.11644489,  2.00500742,  0.08995212,\n",
       "        0.18871884,  0.02084518, -0.89218277,  1.48700552,  0.86307666,\n",
       "        0.63470801,  0.803374  ,  1.33200508, -0.06839282, -0.70202205,\n",
       "       -2.05649095,  0.87145432,  0.55541448,  1.21031943, -1.60255983,\n",
       "        1.28995596, -0.10022501, -1.57759932,  0.37507912, -0.27870194,\n",
       "        1.33839992, -0.46611912, -0.16669129,  2.36474134, -0.27842819,\n",
       "        0.49042066, -0.21005093,  0.72480983, -0.08925544, -0.22839022,\n",
       "        0.35636264, -0.21209927,  1.05165173,  0.0477052 , -0.00594305,\n",
       "        0.29446249, -1.06205688, -0.46805055, -2.00685028,  1.82495315,\n",
       "       -1.30346644,  2.18354222,  0.77462793,  3.05232521, -0.10023974,\n",
       "        0.58145896,  0.72707143,  0.15682799,  0.34431563, -1.70093884,\n",
       "        0.71164605, -0.18941205, -0.6246566 , -1.44531545, -0.52114093,\n",
       "        0.41193368,  1.91366058, -0.33710461, -0.10180468, -2.1767619 ,\n",
       "       -1.29546261, -0.7607678 ,  1.32873034, -0.20471794,  0.1599535 ,\n",
       "        1.13433337, -0.0538413 , -0.43949111,  0.57695088, -0.02702498,\n",
       "        0.75631366,  1.35476196, -0.47261248, -0.66622474,  0.84989853,\n",
       "       -0.64351944, -2.26201831, -0.53458496,  0.4068351 ,  0.35458346,\n",
       "       -1.19727761,  0.12328844,  0.50462541, -1.3789795 ,  0.44393098,\n",
       "       -0.32640799, -0.80031926,  2.05646865,  0.67420526, -1.11716599,\n",
       "        0.0900412 , -1.10462502,  0.04426064,  1.38821913, -0.17183244,\n",
       "        1.61169048, -0.67634289, -0.8752132 , -0.49578574,  0.11716789,\n",
       "        0.16150124, -1.19312533, -0.47058062, -0.03828959,  1.77961553,\n",
       "        0.27627483, -1.71081252, -0.40738608,  0.11357256, -0.00611343,\n",
       "        0.46786822, -1.14163   , -0.53109151,  0.07314127,  2.28403074,\n",
       "        1.96306578, -1.15330733,  0.34320928,  1.50122561, -0.85373828,\n",
       "       -1.10451309,  0.6426552 ,  1.38210773, -1.25904726, -0.30481299,\n",
       "        0.17703015, -0.21100175,  0.71729787, -0.21138316, -0.99866275,\n",
       "       -0.16819006, -0.37046611, -0.65477502,  0.04973685,  0.68816069,\n",
       "        0.54705794,  1.68531661, -0.97481649,  2.05312446,  0.05360755,\n",
       "       -0.98216794,  0.33782274, -0.15792329, -0.07661644, -0.58536965,\n",
       "        1.83126228, -1.88182853,  0.93252514, -0.19975451,  0.95889681,\n",
       "        1.49691193, -0.18531951, -0.24390967, -0.62623588,  1.44835958,\n",
       "       -0.35334523, -0.52789069, -1.64308976, -0.26611672,  0.16335271,\n",
       "       -2.57047039,  0.56411852,  0.41027194,  0.60196949,  1.1529937 ,\n",
       "       -1.277294  ,  0.25921709, -1.77678023, -0.46651951, -0.13379893,\n",
       "       -0.23412533, -0.5029711 ,  0.42892579, -0.95311228,  0.07209101,\n",
       "        0.71887035,  0.46452737, -1.82186177,  0.26346953, -0.33895678,\n",
       "       -0.28301923, -0.46051503, -0.27086638, -0.62458827,  1.53784976,\n",
       "        0.01992883,  0.84846237, -1.36693649, -0.3273438 , -0.76916956,\n",
       "       -0.13301229,  0.68607302,  0.42221882, -0.69115393, -1.55710112,\n",
       "       -0.49490985,  0.92464049, -1.56118171,  0.11915632,  0.5546612 ,\n",
       "        2.02392054,  0.41040181,  1.11173465,  0.55026646, -1.16570227,\n",
       "        1.63344451, -1.01314662, -0.71633492, -0.04693836, -0.00043283,\n",
       "        0.85899613,  1.03104466,  1.36326648,  0.30446801, -1.02892035,\n",
       "       -1.49629687,  0.88716373, -0.90575257, -0.0505955 , -0.33203103,\n",
       "       -0.48653514, -0.9225139 , -0.49961702, -1.53151667,  0.65310711,\n",
       "        1.81616809, -0.69693295,  1.75054513, -0.88660142, -1.15177765,\n",
       "       -0.33709975, -0.45976022, -0.03887799,  0.51389354, -0.33090724,\n",
       "        0.32566345,  0.93111653, -0.79332759, -0.84308188,  1.00290899,\n",
       "        0.19253884,  0.04347357,  0.89405155, -1.09125581, -0.68112905,\n",
       "        0.12701525, -0.09391534, -0.42495103,  1.38450938, -0.22141732,\n",
       "        1.75410432, -0.6572912 ,  0.1904269 , -0.6950647 , -0.06430742,\n",
       "       -0.31637349,  0.51379476, -0.67208973,  2.22518147, -0.27622211,\n",
       "       -1.2336857 , -1.05538395,  0.14796751,  0.18329986, -0.44365052,\n",
       "        0.13737297,  1.91229381,  0.97993853, -0.04609102, -0.66330093,\n",
       "        1.17607428, -1.80263009, -0.24967382, -0.58291645, -0.47423455,\n",
       "       -0.79719539, -0.93044328,  0.28079056, -0.14889052, -0.64490604,\n",
       "        1.87506001, -1.27533279, -1.57160644,  0.02242558,  1.33507381,\n",
       "       -1.40074966,  0.230874  , -1.52584624, -1.07274087, -0.18493981,\n",
       "       -0.10366531, -2.23084203,  0.1323811 , -0.70977006,  0.37981814,\n",
       "        1.49402123,  1.55916764,  1.83256714, -0.87620797,  1.12414402,\n",
       "       -0.09298511,  1.09101688,  1.1424217 ,  0.13289032, -1.48200228,\n",
       "        0.61547713, -0.00545201,  1.60667718,  1.58483501, -0.2257371 ,\n",
       "       -1.020844  , -0.67902622, -0.92694202,  0.1946912 ,  0.61454705,\n",
       "       -2.11834427, -0.91613998,  0.09521732,  0.03967853, -0.42113777,\n",
       "       -0.62549513,  0.26904067,  0.84343306, -0.71266744,  0.70141961,\n",
       "        0.41927058,  1.04936593, -2.21775657, -0.03858194,  1.28413786,\n",
       "        0.30562294,  2.19099545,  0.04394942,  0.16022115, -0.73346028,\n",
       "        1.27104959, -0.76805862, -0.59929538, -0.37745218, -1.73457924,\n",
       "        0.38907398,  1.79094274,  2.47515427, -0.20604551, -0.78475082,\n",
       "       -0.61919812, -0.17075701,  0.24909018, -0.87854423,  1.30304113,\n",
       "        1.54847344, -1.35418092,  1.09143576,  1.88969444, -1.41380991,\n",
       "       -1.19133294,  0.45206259,  0.29765605,  0.01118018, -0.35930313,\n",
       "        0.89760568,  0.52159542, -0.55582529, -0.99527098,  0.16601655,\n",
       "        2.51715174,  0.35520357,  1.51170286, -0.69588671,  0.67987684,\n",
       "        0.41921548, -0.43563626,  0.66120456, -0.68642261,  0.81017151,\n",
       "        0.68585549,  0.10924722, -0.05540517,  1.69163127,  1.68457555,\n",
       "        1.42022813, -0.34855022,  1.56768396,  0.4663611 ,  0.57781081,\n",
       "        0.41910331,  0.31372404, -1.80045185,  1.67964112, -0.94191175,\n",
       "        0.75231655, -0.44088853,  0.08050321, -0.15083132,  1.80971939,\n",
       "        2.06111508, -0.78523424, -0.36808778,  0.12277728, -0.03490038,\n",
       "       -1.46453897, -1.32089167,  0.09807765, -0.20980986,  0.06657389,\n",
       "        0.76821839, -1.95840641,  0.71137042,  0.09497958, -0.53801922,\n",
       "       -0.20168972,  0.40436635,  2.31605685, -1.74079526,  1.95534126,\n",
       "       -0.62036723, -0.38188973, -0.61990156, -1.14529237, -0.30056106,\n",
       "        1.45789058,  0.8502472 , -1.2757472 , -1.33590007,  1.85270652,\n",
       "       -0.88606154,  0.76681638,  1.22007903,  0.783765  ,  2.18584791,\n",
       "       -0.08474842, -0.04324143,  0.90401634,  1.48708804, -1.24568729,\n",
       "        0.67918381,  0.15189279, -0.18315208, -0.75167467,  0.51405986,\n",
       "        1.75983606, -0.22201304, -0.57647859, -1.54422567, -0.79948798,\n",
       "        0.63977596, -1.28322115, -0.89713863,  1.50759836, -1.02435235,\n",
       "        0.96468294,  0.15303073, -0.44703884, -0.27784263, -0.3949941 ,\n",
       "        0.50118573, -1.98053671,  2.13835311,  0.30100645, -0.85823372,\n",
       "       -2.49929598,  0.12635492,  0.30268305, -0.20135765, -0.13211444,\n",
       "       -0.51009188,  1.30017028, -0.57559746, -0.12792685,  0.75992833,\n",
       "        1.7016363 ,  0.05635514,  1.63868044,  1.44595198,  0.70696327,\n",
       "       -0.71872393, -0.24822057, -0.78383733,  1.74202578, -0.21764606,\n",
       "        0.07953131, -1.44343149,  0.48109094,  0.68534671, -1.61177047,\n",
       "        0.66152318, -0.54010556, -0.8571469 , -1.78953638,  1.24437081,\n",
       "        0.79345994, -0.65034879, -0.97575605, -0.97485004,  0.0828173 ,\n",
       "        1.82422691, -1.60504088,  1.32329587, -0.0825753 ,  0.78441917,\n",
       "        1.9711866 , -0.43617069, -0.31968864, -1.62264602, -1.03019633,\n",
       "       -0.0345998 , -0.21430016,  0.41374187,  1.20488881,  1.46450241,\n",
       "       -0.15791595,  2.62557624, -0.83268445, -0.45630951, -0.6559347 ,\n",
       "       -0.60497964, -0.15711848, -0.06676296, -1.46687565, -0.24932174,\n",
       "       -0.80205116,  1.54661689, -0.38827084,  2.32447472,  0.47725366,\n",
       "       -0.13212387,  0.02818048, -0.34734956,  0.10444265,  0.20801398,\n",
       "       -0.14269038,  0.01320911, -0.79618487, -0.43321468, -1.25199966,\n",
       "        0.87714078, -0.15670983,  0.25228359, -1.0152888 ,  0.39313242,\n",
       "        1.77182841, -0.91440223,  0.33922389,  0.21481101,  0.14927527,\n",
       "        0.65406193,  0.13726033, -0.06769251, -1.30059865, -0.2010774 ,\n",
       "       -1.23842687,  0.77713633, -0.05888489, -1.43814917, -0.41875727,\n",
       "       -0.53146227, -0.50159484,  0.26067967, -1.43406687, -0.03517581,\n",
       "        1.19091635,  0.60387305, -0.90102845, -0.03751636, -1.01431968,\n",
       "       -0.02142769, -0.78306625,  0.28076982, -0.31954225,  0.80236458,\n",
       "        0.71060861,  0.46728576, -0.45369678, -0.6542864 ,  0.72276926,\n",
       "       -0.32324335,  0.66698754, -0.46934305, -1.81741696,  1.22202289,\n",
       "       -1.0537526 ,  1.03187304,  0.23752716,  0.1689806 , -2.46733938,\n",
       "       -1.5628183 , -0.22944659,  2.42428585, -0.16360967, -1.86411713,\n",
       "       -1.56248834, -0.75123979, -1.83251547, -0.09776145, -0.854376  ,\n",
       "       -0.60856986, -0.72490673, -0.50839012, -0.07050526,  0.07119007,\n",
       "       -0.43829567, -2.22376226,  0.92197915, -0.42541351,  1.35371356,\n",
       "       -0.32794848,  0.73270368,  1.10520997,  0.07540812, -0.62438145,\n",
       "       -0.04441478, -0.99661211, -0.25894986, -1.19751266, -1.00134337,\n",
       "        1.33565598,  0.41172722, -2.08795538,  0.86815522,  1.32187875,\n",
       "       -0.02500759, -0.93357247,  0.73390713,  0.47774385,  0.66006277,\n",
       "       -1.03866886, -0.09019108, -1.20552108,  0.41262651,  0.76767093,\n",
       "        1.80709813, -1.35109989,  1.78788388, -0.03794715, -0.53994161,\n",
       "        0.88550084, -0.62118721,  1.54525647,  1.02294512, -0.01766954,\n",
       "       -1.58384423,  0.26025559,  1.81184747,  0.32722676, -0.49837552,\n",
       "        0.24777698, -0.10528739, -1.68361622, -1.13201812, -0.80068567,\n",
       "       -0.54296276,  0.34655399,  0.47848293,  0.46116666,  0.49850185,\n",
       "       -0.34328599, -0.03468957,  0.76571845,  1.20089299, -0.22830478,\n",
       "        0.86757862, -1.97711738, -1.8426561 ,  1.6099319 ,  0.41912853,\n",
       "        0.20101821,  0.57309638, -0.83576533, -0.39783898, -0.94213661,\n",
       "        1.17407033, -0.00794505,  0.61056331, -0.31314762,  0.70042445,\n",
       "       -1.64308065, -0.81098167, -2.17659874, -1.19782166,  0.82330093,\n",
       "       -0.68512455,  0.50377907,  1.27010101, -0.19917461, -0.5541646 ,\n",
       "       -1.28088579,  0.45697521, -0.46455729, -0.10777055, -0.29538067])"
      ]
     },
     "execution_count": 3,
     "metadata": {},
     "output_type": "execute_result"
    }
   ],
   "source": [
    "# Normally distributed random numbers?\n",
    "np.random.normal(loc = 0, scale = 1, size = 1000)\n"
   ]
  },
  {
   "cell_type": "markdown",
   "metadata": {},
   "source": [
    "### Reading from a file"
   ]
  },
  {
   "cell_type": "code",
   "execution_count": 8,
   "metadata": {},
   "outputs": [],
   "source": [
    "# Create a random matrix\n",
    "mat  = np.random.normal(loc = 0, scale = 1, size = (10,10))\n",
    "\n",
    "# Save compressed\n",
    "np.save(\"mat.npy\", mat)\n",
    "# Save uncompressed\n",
    "np.savetxt(\"mat.csv\", mat, delimiter=\";\")"
   ]
  },
  {
   "cell_type": "code",
   "execution_count": 20,
   "metadata": {},
   "outputs": [],
   "source": [
    "# Load from a compressed array\n"
   ]
  },
  {
   "cell_type": "code",
   "execution_count": 22,
   "metadata": {},
   "outputs": [],
   "source": [
    "# Load from a text file\n"
   ]
  },
  {
   "cell_type": "markdown",
   "metadata": {},
   "source": [
    "## Methods and attributes of numpy arrays"
   ]
  },
  {
   "cell_type": "code",
   "execution_count": 25,
   "metadata": {},
   "outputs": [],
   "source": [
    "# Figuring out the shape\n"
   ]
  },
  {
   "cell_type": "code",
   "execution_count": 6,
   "metadata": {},
   "outputs": [],
   "source": [
    "# Figuring out the type of data\n"
   ]
  },
  {
   "cell_type": "code",
   "execution_count": 7,
   "metadata": {},
   "outputs": [],
   "source": [
    "# Figuring out the total number of elements\n"
   ]
  },
  {
   "cell_type": "code",
   "execution_count": null,
   "metadata": {},
   "outputs": [],
   "source": [
    "arr = np.random.normal(size=20)"
   ]
  },
  {
   "cell_type": "code",
   "execution_count": 30,
   "metadata": {},
   "outputs": [
    {
     "name": "stdout",
     "output_type": "stream",
     "text": [
      "Minimum value:  -2.005639070990796\n",
      "Maximum value:  2.46935113668617\n",
      "Index of minimum value:  7\n",
      "Index of maximum value:  12\n",
      "----------------------------\n",
      "Minimum value:  -2.005639070990796\n",
      "Maximum value:  2.46935113668617\n",
      "Index of minimum value:  7\n",
      "Index of maximum value:  12\n"
     ]
    }
   ],
   "source": [
    "# Find min, max, argmax, argmin, mean, std, etc...\n",
    "print('Minimum value: ', arr.min())\n",
    "print('Maximum value: ', arr.max())\n",
    "print('Index of minimum value: ', arr.argmin())\n",
    "print('Index of maximum value: ', arr.argmax())\n",
    "\n",
    "print('----------------------------')\n",
    "\n",
    "# Alternatively, you could use the \"functional grammer\" of numpy\n",
    "print('Minimum value: ', np.min(arr))\n",
    "print('Maximum value: ', np.max(arr))\n",
    "print('Index of minimum value: ', np.argmin(arr))\n",
    "print('Index of maximum value: ', np.argmax(arr))"
   ]
  },
  {
   "cell_type": "code",
   "execution_count": null,
   "metadata": {},
   "outputs": [],
   "source": [
    "# How about nd arrays? (axis)\n"
   ]
  },
  {
   "cell_type": "markdown",
   "metadata": {},
   "source": [
    "## Indexing and selection of numpy arrays"
   ]
  },
  {
   "cell_type": "markdown",
   "metadata": {},
   "source": [
    "### Indexing 1D arrays"
   ]
  },
  {
   "cell_type": "code",
   "execution_count": 11,
   "metadata": {},
   "outputs": [],
   "source": [
    "# Indexing a single number\n"
   ]
  },
  {
   "cell_type": "code",
   "execution_count": 12,
   "metadata": {},
   "outputs": [],
   "source": [
    "# Indexing a range of numbers (similar to slicing python lists)\n"
   ]
  },
  {
   "cell_type": "code",
   "execution_count": 13,
   "metadata": {},
   "outputs": [],
   "source": [
    "# From index (inclusive) \n"
   ]
  },
  {
   "cell_type": "code",
   "execution_count": 14,
   "metadata": {},
   "outputs": [],
   "source": [
    "# Assigning a slice to a variable\n"
   ]
  },
  {
   "cell_type": "markdown",
   "metadata": {},
   "source": [
    "### Indexing ND arrays"
   ]
  },
  {
   "cell_type": "code",
   "execution_count": null,
   "metadata": {},
   "outputs": [],
   "source": [
    "# Get a rectangular subarray\n"
   ]
  },
  {
   "cell_type": "markdown",
   "metadata": {},
   "source": [
    "### Conditional selection"
   ]
  },
  {
   "cell_type": "code",
   "execution_count": 17,
   "metadata": {},
   "outputs": [],
   "source": [
    "# Create a boolean array (array of 0s and 1s)\n"
   ]
  },
  {
   "cell_type": "code",
   "execution_count": 52,
   "metadata": {},
   "outputs": [],
   "source": [
    "mat = np.random.normal(size=(4, 3))"
   ]
  },
  {
   "cell_type": "code",
   "execution_count": 57,
   "metadata": {},
   "outputs": [
    {
     "data": {
      "text/plain": [
       "array([[ 0.83193654, -1.60597523],\n",
       "       [ 0.07846198,  0.26082369],\n",
       "       [ 1.43117199, -0.44471802],\n",
       "       [ 0.09985125,  2.43105433]])"
      ]
     },
     "execution_count": 57,
     "metadata": {},
     "output_type": "execute_result"
    }
   ],
   "source": [
    "mat[..., [False, True, True]]"
   ]
  },
  {
   "cell_type": "code",
   "execution_count": 54,
   "metadata": {},
   "outputs": [
    {
     "data": {
      "text/plain": [
       "array([[ 0.91248541,  0.07846198,  0.26082369],\n",
       "       [ 1.08238821,  1.43117199, -0.44471802]])"
      ]
     },
     "execution_count": 54,
     "metadata": {},
     "output_type": "execute_result"
    }
   ],
   "source": [
    "mat[[False, True, True, False]]"
   ]
  },
  {
   "cell_type": "code",
   "execution_count": null,
   "metadata": {},
   "outputs": [],
   "source": [
    "# Index with a boolen array (keep only elements whose index corresponds to True)\n"
   ]
  },
  {
   "cell_type": "markdown",
   "metadata": {},
   "source": [
    "<p><strong>Time for a short exercise!</strong></p>\n",
    "\n",
    "Suppose you have a matrix which contains the response times of 50 participants, where each row represents an individual participant.\n",
    "Your data contains missing values, coded as '999' by your student assistant. Your want to take a quick look at the data by:\n",
    "\n",
    "1. Loading the file \"rt_missing.txt\"\n",
    "2. Replacing all 999 values with the value np.nan\n",
    "3. Computing the mean and variance of the the response times for each participant<br>\n",
    "\n",
    "Hint: try to use `np.mean()` and `np.var()` to see what happens and look for a solution."
   ]
  },
  {
   "cell_type": "code",
   "execution_count": null,
   "metadata": {},
   "outputs": [
    {
     "name": "stdout",
     "output_type": "stream",
     "text": [
      "[5.29076744 5.106375   4.32583721 5.0402766  5.12289362 4.86356522\n",
      " 5.40130435 4.76297872 4.91340426 5.03225532 4.63439535 5.5038913\n",
      " 5.09713333 6.38172727 5.01286364 4.76176596 4.64572727 4.38330612\n",
      " 5.91961905 5.75659091 4.73806667 4.58718605 5.61642857 4.71043478\n",
      " 5.55364103 5.83477778 5.09020833 5.69589362 5.2912619  5.46006667\n",
      " 5.26732609 4.17862222 5.574925   4.7585814  5.73620455 4.36646667\n",
      " 5.87821429 4.57265116 5.41465957 4.93554348 4.16006667 5.23754348\n",
      " 5.12561702 5.45526087 4.72146512 4.46713043 5.01890698 4.3174\n",
      " 4.82651163 5.24813953 4.64682927 5.20344444 5.76834783 5.31115556\n",
      " 4.93213333 5.66061702 4.77155319 4.44028889 5.105      5.23595556\n",
      " 5.16197826 5.51748936 4.99869767 4.20640909 5.07936585 5.28011111\n",
      " 5.13409091 5.34715909 5.27640816 4.77446809 4.75266667 5.30572727\n",
      " 5.52367391 4.95808511 5.54081818 5.15202174 5.65291111 4.68765116\n",
      " 5.70215909 5.58417021 4.70354348 5.0709375  4.55482222 5.8094898\n",
      " 5.63230233 4.67123077 5.40222449 4.12372093 5.32608511 4.67642857\n",
      " 5.349075   5.98361364 5.22388636 5.15562222 4.81219565 4.90471739\n",
      " 5.49577273 4.92795455 5.6516383  5.28888889 5.15706383 5.03344444\n",
      " 5.42077778 4.90430769 5.05028571 4.77684091 4.6307     5.76216667\n",
      " 5.1308913  5.16611111 4.94428261 5.4266     5.30960465 5.70777778\n",
      " 5.42937778 5.02926667 5.42621739 4.66097727 5.10880952 5.55545833]\n",
      "[11.63302804 10.32426915  9.63056409 20.75609658 15.60867031 10.28690542\n",
      " 12.96307921 18.9450296  12.29392786 16.30716589 13.13651354 38.02338671\n",
      " 14.10838087 32.61526447 12.35169485 15.82803792  9.31880352  9.2333105\n",
      " 16.08741466 16.56349588 16.36931455 13.6474395  20.51768744 11.4473242\n",
      " 13.1770909  22.79909413 14.85065891 12.94772031 14.19097957 23.65788304\n",
      " 19.67501309  9.38393672 23.97408377 11.26061489 29.77701862 12.28411852\n",
      " 19.49086817 12.77122348 18.32810265 18.1754249   9.92779166 12.31830612\n",
      " 11.565723   22.42316928 12.74321378 10.46796681 15.31190497  9.65131944\n",
      " 12.35062988 13.9831284  12.37234556 24.27535149 17.34666936 30.5268692\n",
      " 14.78535132 21.89206449 15.56145446 16.33187634 11.19400643 15.79939902\n",
      " 14.32787906 26.92316987  8.93777775  9.03823138 12.88016555 31.97497428\n",
      " 16.94244063 15.68365468  9.14310743 11.8379417   7.30394164  9.8278057\n",
      " 16.62882522  8.66428046 12.78893806 15.51784037 20.38597639 17.97666637\n",
      " 12.45912713 12.62609265  8.9216666  14.50615168 11.49810432 17.8394569\n",
      " 14.72753807 28.66629197 17.19472817  8.96979169 12.06065467  8.93101005\n",
      " 18.35287487 17.13825383 22.1816346  14.98503899 15.01076598 13.01323464\n",
      " 24.11867813 17.64822309 22.97380729 15.55142654 15.96785461  9.32602029\n",
      " 12.7201984   9.28730765 12.64101144 10.71492263  9.52838691 23.10150485\n",
      " 21.41951631 16.66397779 10.52707877 28.94987197 19.67514452 16.06862208\n",
      " 13.69472432 18.92492908 12.32735039 10.92785311 12.50951668 22.81300846]\n"
     ]
    }
   ],
   "source": [
    "means = None\n",
    "variances = None\n",
    "\n",
    "mat = np.loadtxt(\"rt_missing.txt\", delimiter = \";\")\n",
    "\n",
    "mat[mat==999] = np.nan\n",
    "\n",
    "means = np.nanmean(mat, axis = 0)\n",
    "print(means)\n",
    "\n",
    "variances = np.nanvar(mat, axis = 0)\n",
    "print(filevar)\n"
   ]
  },
  {
   "cell_type": "code",
   "execution_count": 41,
   "metadata": {},
   "outputs": [
    {
     "data": {
      "text/plain": [
       "[4, 2, 3]"
      ]
     },
     "execution_count": 41,
     "metadata": {},
     "output_type": "execute_result"
    }
   ],
   "source": [
    "arr = [1,2,3]\n",
    "arr[arr == 1] = 4\n",
    "arr"
   ]
  },
  {
   "cell_type": "code",
   "execution_count": null,
   "metadata": {},
   "outputs": [],
   "source": []
  },
  {
   "cell_type": "code",
   "execution_count": null,
   "metadata": {},
   "outputs": [
    {
     "data": {
      "image/png": "[encoded data removed]",
      "text/plain": [
       "<Figure size 864x288 with 2 Axes>"
      ]
     },
     "metadata": {
      "needs_background": "light"
     },
     "output_type": "display_data"
    }
   ],
   "source": [
    "# Test your code\n",
    "f, axarr = plt.subplots(1, 2, figsize=(12, 4))\n",
    "sns.histplot(means, ax=axarr[0], color='#aa0000', alpha=0.6)\n",
    "sns.histplot(np.sqrt(variances), ax=axarr[1], color='#0000aa', alpha=0.6)\n",
    "\n",
    "for ax in axarr:\n",
    "    sns.despine(ax=ax)\n",
    "    ax.set_xlabel('Response time (seconds)')\n",
    "axarr[0].set_title('Response Time Means', fontsize=14)\n",
    "axarr[1].set_title('Response Time Standard Deviations', fontsize=14)\n",
    "axarr[1].set_ylabel('')\n",
    "f.tight_layout()"
   ]
  },
  {
   "cell_type": "markdown",
   "metadata": {},
   "source": [
    "## Operations on numpy arrays"
   ]
  },
  {
   "cell_type": "markdown",
   "metadata": {},
   "source": [
    "### Scalar-array operations"
   ]
  },
  {
   "cell_type": "code",
   "execution_count": 18,
   "metadata": {},
   "outputs": [],
   "source": [
    "# All scalar-array algebraic operations are performed element-wise\n",
    "\n",
    "\n",
    "# Multiplication by a scalar"
   ]
  },
  {
   "cell_type": "code",
   "execution_count": 19,
   "metadata": {},
   "outputs": [],
   "source": [
    "# Addition of a scalar\n"
   ]
  },
  {
   "cell_type": "markdown",
   "metadata": {},
   "source": [
    "### Array-array operations"
   ]
  },
  {
   "cell_type": "code",
   "execution_count": 20,
   "metadata": {},
   "outputs": [],
   "source": [
    "# You can perform all usual linear algebra operations on numpy arrays\n"
   ]
  },
  {
   "cell_type": "code",
   "execution_count": 21,
   "metadata": {},
   "outputs": [],
   "source": [
    "# Elementwise multiplication\n"
   ]
  },
  {
   "cell_type": "code",
   "execution_count": 22,
   "metadata": {},
   "outputs": [],
   "source": [
    "# Elementwise addition\n"
   ]
  },
  {
   "cell_type": "markdown",
   "metadata": {},
   "source": [
    "<p><strong>Matrix Multiplication Memo :)</strong><p>\n",
    "    \n",
    "![Matrix Multiplication Memo](https://www.mathsisfun.com/algebra/images/matrix-multiply-a.svg)"
   ]
  },
  {
   "cell_type": "code",
   "execution_count": 76,
   "metadata": {},
   "outputs": [],
   "source": [
    "mat = np.random.normal(size=(4, 3))\n",
    "mat2 = np.random.normal(size=(3, 6))"
   ]
  },
  {
   "cell_type": "code",
   "execution_count": 85,
   "metadata": {},
   "outputs": [],
   "source": [
    "# Matmul\n",
    "# res = np.matmul(mat, mat2)\n",
    "# res = mat @ mat2\n",
    "# res = mat.dot(mat2)\n",
    "res = np.dot(mat, mat2)\n",
    "assert res.shape == (4, 6)"
   ]
  },
  {
   "cell_type": "code",
   "execution_count": 73,
   "metadata": {},
   "outputs": [],
   "source": [
    "u1 = np.random.rand(100000)\n",
    "u2 = np.random.rand(100000)"
   ]
  },
  {
   "cell_type": "code",
   "execution_count": null,
   "metadata": {},
   "outputs": [],
   "source": [
    "# Speed comparison between vectorized operations and pure Python loops\n",
    "# We use the \"magic\" keyword time to estimate the running time of a cell"
   ]
  },
  {
   "cell_type": "code",
   "execution_count": 72,
   "metadata": {},
   "outputs": [],
   "source": [
    "def dot_product(v1, v2):\n",
    "    \"\"\"Naive dot product implementation.\"\"\"\n",
    "    sum = 0\n",
    "\n",
    "    if (v1.shape[0] != v2.shape[0]):\n",
    "        raise ValueError(\"Vectors need to have the same length\")\n",
    "\n",
    "    for i in range(len(v1)):\n",
    "        sum += v1[i] * v2[i]\n",
    "    return sum\n",
    "\n",
    "    \n",
    "    ## Your code here"
   ]
  },
  {
   "cell_type": "code",
   "execution_count": 63,
   "metadata": {},
   "outputs": [],
   "source": [
    "from time import perf_counter\n",
    "\n",
    "def timeit(func):\n",
    "    def wrapper(*args):\n",
    "        t1 = perf_counter()\n",
    "        out = func(*args)\n",
    "        t2 = perf_counter()\n",
    "        print(f'Execution time: {t2 - t1} s.')\n",
    "        return out\n",
    "    return wrapper"
   ]
  },
  {
   "cell_type": "code",
   "execution_count": 64,
   "metadata": {},
   "outputs": [],
   "source": [
    "dot = timeit(dot_product)"
   ]
  },
  {
   "cell_type": "code",
   "execution_count": 111,
   "metadata": {},
   "outputs": [
    {
     "name": "stdout",
     "output_type": "stream",
     "text": [
      "Execution time: 0.061424299999998766 s.\n"
     ]
    },
    {
     "data": {
      "text/plain": [
       "24987.38157341021"
      ]
     },
     "execution_count": 111,
     "metadata": {},
     "output_type": "execute_result"
    }
   ],
   "source": [
    "dot(u1, u2)"
   ]
  },
  {
   "cell_type": "markdown",
   "metadata": {},
   "source": [
    "### Aside: Decorators"
   ]
  },
  {
   "cell_type": "code",
   "execution_count": null,
   "metadata": {},
   "outputs": [],
   "source": []
  },
  {
   "cell_type": "markdown",
   "metadata": {},
   "source": [
    "### Universal functions"
   ]
  },
  {
   "cell_type": "code",
   "execution_count": 24,
   "metadata": {},
   "outputs": [],
   "source": [
    "# Exponential, log, etc (it's all performed elementwise!)\n"
   ]
  },
  {
   "cell_type": "markdown",
   "metadata": {},
   "source": [
    "## Exercise: OLS Regression with numpy\n",
    "\n",
    "<p>In this exercise, we will compute the parameters (weights) of an OLS regression using only numpy (and our linear algebra knowledge).</p>\n",
    "<p>The forward equation for OLS regression is given by:</p>\n",
    "\n",
    "$$\\hat{y} = \\mathbf{X}\\beta$$\n",
    "\n",
    "where $\\mathbf{X}$ is an $N{\\times}M$ matrix of covariates, and $\\beta$ is a vector of parameters estimated from the data. In OLS regression, we seek to minimize the MSE (mean squared error) criterion:\n",
    "\n",
    "$$MSE(\\beta) = \\frac{1}N\\sum_{i=1}^N(y_i - \\hat{y_i})^2$$\n",
    "\n",
    "<p>which can be written in matrix form as</p>\n",
    "\n",
    "$$MSE(\\beta) = (y - \\mathbf{X}\\beta)^T(y - \\mathbf{X}\\beta)$$\n",
    "\n",
    "setting the gradient of the MSE criterion to zero and solving for $y$, we obtain the following solution which minimizes the MSE:<br>\n",
    "\n",
    "$$\\beta^* = (\\mathbf{X}^T\\mathbf{X})^{-1}\\mathbf{X}^Ty$$\n",
    "\n",
    "See this excellent post for a full derivation: https://eli.thegreenplace.net/2014/derivation-of-the-normal-equation-for-linear-regression\n",
    "\n",
    "Thus, in order to complete this exercise, you need to follow these steps:\n",
    "1. Generate X (covariates) and y (outcome) by calling the `simulate_ols_data()` function\n",
    "2. Complete the `ols(X, y)` function by computing the solution to the normal equation\n",
    "3. Compare your best parameters with the parameters returned by the numpy function `numpy.linalg.lstsq(X, y)`\n",
    "4. Compute RMSE on the training data by completing the function `rmse(y, y_hat)`. The RMSE is given by:\n",
    "<br>\n",
    "<br>\n",
    "\n",
    "$$RMSE= \\sqrt{\\frac{1}N\\sum_{i=1}^N(y_i - \\hat{y_i})^2}$$"
   ]
  },
  {
   "cell_type": "code",
   "execution_count": null,
   "metadata": {},
   "outputs": [],
   "source": [
    "def simulate_ols_data(N=100, M=3):\n",
    "    \"\"\"Function to simulate synthetic regression data.\"\"\"\n",
    "    \n",
    "    # Generate design matrix\n",
    "    X = np.random.randn(N, M)\n",
    "\n",
    "    # Add intercept to model\n",
    "    X = np.c_[np.ones(shape=(N, 1)), X]\n",
    "\n",
    "    # Generate true beta ~ N(0, 1)\n",
    "    beta_true = np.random.randn(M + 1)\n",
    "\n",
    "    # Compute noisy linear function\n",
    "    y = X @ beta_true + np.random.randn(N)\n",
    "\n",
    "    return X, y, beta_true"
   ]
  },
  {
   "cell_type": "code",
   "execution_count": null,
   "metadata": {},
   "outputs": [],
   "source": [
    "def ordinary_least_squares(X, y):\n",
    "    \"\"\"Function to compute the parameters of an OLS regression.\"\"\"\n",
    "    \n",
    "    # YOUR CODE HERE\n",
    "    pass"
   ]
  },
  {
   "cell_type": "code",
   "execution_count": null,
   "metadata": {},
   "outputs": [],
   "source": [
    "def rmse(y, y_hat):\n",
    "    \"\"\"Function to compute the RMSE between predictions and outcomes.\"\"\"\n",
    "    \n",
    "    # YOUR CODE HERE\n",
    "    pass"
   ]
  },
  {
   "cell_type": "code",
   "execution_count": null,
   "metadata": {},
   "outputs": [],
   "source": [
    "# 1. Simulate regression data\n",
    "X, y, beta_true = simulate_ols_data(N=10000)\n",
    "\n",
    "# 2. Obtain best parameters\n",
    "beta_hat = ordinary_least_squares(X, y)\n",
    "\n",
    "# 3. Obtain best parameters using numpy.linalg.lstsq\n",
    "beta_hat_np = np.linalg.lstsq(X, y, rcond=None)[0]\n",
    "\n",
    "# 4. Compute RMSE on training data\n",
    "y_hat = X @ beta_hat_np\n",
    "\n",
    "rmse_train = rmse(y, y_hat)"
   ]
  },
  {
   "cell_type": "code",
   "execution_count": null,
   "metadata": {},
   "outputs": [],
   "source": [
    "print('True betas: ', beta_true)\n",
    "print('OLS betas: ', beta_hat)\n",
    "print('Numpy LSTSQ betas', beta_hat_np)\n",
    "print('RMSE train: ', rmse_train)"
   ]
  },
  {
   "cell_type": "markdown",
   "metadata": {},
   "source": [
    "# Aside on plotting"
   ]
  },
  {
   "cell_type": "code",
   "execution_count": null,
   "metadata": {},
   "outputs": [],
   "source": []
  },
  {
   "cell_type": "code",
   "execution_count": null,
   "metadata": {},
   "outputs": [],
   "source": []
  }
 ],
 "metadata": {
  "kernelspec": {
   "display_name": "base",
   "language": "python",
   "name": "python3"
  },
  "language_info": {
   "codemirror_mode": {
    "name": "ipython",
    "version": 3
   },
   "file_extension": ".py",
   "mimetype": "text/x-python",
   "name": "python",
   "nbconvert_exporter": "python",
   "pygments_lexer": "ipython3",
   "version": "3.9.12"
  },
  "toc": {
   "base_numbering": 1,
   "nav_menu": {
    "height": "421px",
    "width": "410px"
   },
   "number_sections": true,
   "sideBar": true,
   "skip_h1_title": false,
   "title_cell": "Table of Contents",
   "title_sidebar": "Contents",
   "toc_cell": true,
   "toc_position": {
    "height": "calc(100% - 180px)",
    "left": "10px",
    "top": "150px",
    "width": "245.8px"
   },
   "toc_section_display": true,
   "toc_window_display": true
  }
 },
 "nbformat": 4,
 "nbformat_minor": 2
}
