{
 "cells": [
  {
   "cell_type": "markdown",
   "id": "da3030e4",
   "metadata": {},
   "source": [
    "### Estimation of Muon Decay Time"
   ]
  },
  {
   "cell_type": "markdown",
   "id": "bc008f59",
   "metadata": {},
   "source": []
  }
 ],
 "metadata": {
  "language_info": {
   "name": "python"
  }
 },
 "nbformat": 4,
 "nbformat_minor": 5
}
